{
 "cells": [
  {
   "cell_type": "markdown",
   "metadata": {
    "id": "1OLJXG8GOFL3"
   },
   "source": [
    "# Preprocessing"
   ]
  },
  {
   "cell_type": "markdown",
   "metadata": {
    "id": "xQFs69asxogH"
   },
   "source": [
    "Installing, Importing and Preprocessing"
   ]
  },
  {
   "cell_type": "code",
   "execution_count": 997,
   "metadata": {
    "colab": {
     "base_uri": "https://localhost:8080/"
    },
    "executionInfo": {
     "elapsed": 23559,
     "status": "ok",
     "timestamp": 1703542194570,
     "user": {
      "displayName": "Cassie Lu",
      "userId": "03362316879493319105"
     },
     "user_tz": -60
    },
    "id": "ztUehz9yYzYt",
    "outputId": "15747c93-0079-4703-8719-d68178498ded"
   },
   "outputs": [
    {
     "name": "stdout",
     "output_type": "stream",
     "text": [
      "Requirement already satisfied: spaCy in /Users/cassielu/anaconda3/lib/python3.11/site-packages (3.7.2)\n",
      "Requirement already satisfied: spacy-legacy<3.1.0,>=3.0.11 in /Users/cassielu/anaconda3/lib/python3.11/site-packages (from spaCy) (3.0.12)\n",
      "Requirement already satisfied: spacy-loggers<2.0.0,>=1.0.0 in /Users/cassielu/anaconda3/lib/python3.11/site-packages (from spaCy) (1.0.5)\n",
      "Requirement already satisfied: murmurhash<1.1.0,>=0.28.0 in /Users/cassielu/anaconda3/lib/python3.11/site-packages (from spaCy) (1.0.10)\n",
      "Requirement already satisfied: cymem<2.1.0,>=2.0.2 in /Users/cassielu/anaconda3/lib/python3.11/site-packages (from spaCy) (2.0.8)\n",
      "Requirement already satisfied: preshed<3.1.0,>=3.0.2 in /Users/cassielu/anaconda3/lib/python3.11/site-packages (from spaCy) (3.0.9)\n",
      "Requirement already satisfied: thinc<8.3.0,>=8.1.8 in /Users/cassielu/anaconda3/lib/python3.11/site-packages (from spaCy) (8.2.2)\n",
      "Requirement already satisfied: wasabi<1.2.0,>=0.9.1 in /Users/cassielu/anaconda3/lib/python3.11/site-packages (from spaCy) (1.1.2)\n",
      "Requirement already satisfied: srsly<3.0.0,>=2.4.3 in /Users/cassielu/anaconda3/lib/python3.11/site-packages (from spaCy) (2.4.8)\n",
      "Requirement already satisfied: catalogue<2.1.0,>=2.0.6 in /Users/cassielu/anaconda3/lib/python3.11/site-packages (from spaCy) (2.0.10)\n",
      "Requirement already satisfied: weasel<0.4.0,>=0.1.0 in /Users/cassielu/anaconda3/lib/python3.11/site-packages (from spaCy) (0.3.4)\n",
      "Requirement already satisfied: typer<0.10.0,>=0.3.0 in /Users/cassielu/anaconda3/lib/python3.11/site-packages (from spaCy) (0.9.0)\n",
      "Requirement already satisfied: smart-open<7.0.0,>=5.2.1 in /Users/cassielu/anaconda3/lib/python3.11/site-packages (from spaCy) (5.2.1)\n",
      "Requirement already satisfied: tqdm<5.0.0,>=4.38.0 in /Users/cassielu/anaconda3/lib/python3.11/site-packages (from spaCy) (4.65.0)\n",
      "Requirement already satisfied: requests<3.0.0,>=2.13.0 in /Users/cassielu/anaconda3/lib/python3.11/site-packages (from spaCy) (2.31.0)\n",
      "Requirement already satisfied: pydantic!=1.8,!=1.8.1,<3.0.0,>=1.7.4 in /Users/cassielu/anaconda3/lib/python3.11/site-packages (from spaCy) (2.5.3)\n",
      "Requirement already satisfied: jinja2 in /Users/cassielu/anaconda3/lib/python3.11/site-packages (from spaCy) (3.1.2)\n",
      "Requirement already satisfied: setuptools in /Users/cassielu/anaconda3/lib/python3.11/site-packages (from spaCy) (68.0.0)\n",
      "Requirement already satisfied: packaging>=20.0 in /Users/cassielu/anaconda3/lib/python3.11/site-packages (from spaCy) (23.0)\n",
      "Requirement already satisfied: langcodes<4.0.0,>=3.2.0 in /Users/cassielu/anaconda3/lib/python3.11/site-packages (from spaCy) (3.3.0)\n",
      "Requirement already satisfied: numpy>=1.19.0 in /Users/cassielu/anaconda3/lib/python3.11/site-packages (from spaCy) (1.24.3)\n",
      "Requirement already satisfied: annotated-types>=0.4.0 in /Users/cassielu/anaconda3/lib/python3.11/site-packages (from pydantic!=1.8,!=1.8.1,<3.0.0,>=1.7.4->spaCy) (0.6.0)\n",
      "Requirement already satisfied: pydantic-core==2.14.6 in /Users/cassielu/anaconda3/lib/python3.11/site-packages (from pydantic!=1.8,!=1.8.1,<3.0.0,>=1.7.4->spaCy) (2.14.6)\n",
      "Requirement already satisfied: typing-extensions>=4.6.1 in /Users/cassielu/anaconda3/lib/python3.11/site-packages (from pydantic!=1.8,!=1.8.1,<3.0.0,>=1.7.4->spaCy) (4.7.1)\n",
      "Requirement already satisfied: charset-normalizer<4,>=2 in /Users/cassielu/anaconda3/lib/python3.11/site-packages (from requests<3.0.0,>=2.13.0->spaCy) (2.0.4)\n",
      "Requirement already satisfied: idna<4,>=2.5 in /Users/cassielu/anaconda3/lib/python3.11/site-packages (from requests<3.0.0,>=2.13.0->spaCy) (3.4)\n",
      "Requirement already satisfied: urllib3<3,>=1.21.1 in /Users/cassielu/anaconda3/lib/python3.11/site-packages (from requests<3.0.0,>=2.13.0->spaCy) (1.26.16)\n",
      "Requirement already satisfied: certifi>=2017.4.17 in /Users/cassielu/anaconda3/lib/python3.11/site-packages (from requests<3.0.0,>=2.13.0->spaCy) (2023.7.22)\n",
      "Requirement already satisfied: blis<0.8.0,>=0.7.8 in /Users/cassielu/anaconda3/lib/python3.11/site-packages (from thinc<8.3.0,>=8.1.8->spaCy) (0.7.11)\n",
      "Requirement already satisfied: confection<1.0.0,>=0.0.1 in /Users/cassielu/anaconda3/lib/python3.11/site-packages (from thinc<8.3.0,>=8.1.8->spaCy) (0.1.4)\n",
      "Requirement already satisfied: click<9.0.0,>=7.1.1 in /Users/cassielu/anaconda3/lib/python3.11/site-packages (from typer<0.10.0,>=0.3.0->spaCy) (8.0.4)\n",
      "Requirement already satisfied: cloudpathlib<0.17.0,>=0.7.0 in /Users/cassielu/anaconda3/lib/python3.11/site-packages (from weasel<0.4.0,>=0.1.0->spaCy) (0.16.0)\n",
      "Requirement already satisfied: MarkupSafe>=2.0 in /Users/cassielu/anaconda3/lib/python3.11/site-packages (from jinja2->spaCy) (2.1.1)\n",
      "Note: you may need to restart the kernel to use updated packages.\n",
      "Requirement already satisfied: plotly in /Users/cassielu/anaconda3/lib/python3.11/site-packages (5.9.0)\n",
      "Requirement already satisfied: tenacity>=6.2.0 in /Users/cassielu/anaconda3/lib/python3.11/site-packages (from plotly) (8.2.2)\n",
      "Note: you may need to restart the kernel to use updated packages.\n",
      "Requirement already satisfied: nbformat in /Users/cassielu/anaconda3/lib/python3.11/site-packages (5.9.2)\n",
      "Requirement already satisfied: fastjsonschema in /Users/cassielu/anaconda3/lib/python3.11/site-packages (from nbformat) (2.16.2)\n",
      "Requirement already satisfied: jsonschema>=2.6 in /Users/cassielu/anaconda3/lib/python3.11/site-packages (from nbformat) (4.17.3)\n",
      "Requirement already satisfied: jupyter-core in /Users/cassielu/anaconda3/lib/python3.11/site-packages (from nbformat) (5.3.0)\n",
      "Requirement already satisfied: traitlets>=5.1 in /Users/cassielu/anaconda3/lib/python3.11/site-packages (from nbformat) (5.7.1)\n",
      "Requirement already satisfied: attrs>=17.4.0 in /Users/cassielu/anaconda3/lib/python3.11/site-packages (from jsonschema>=2.6->nbformat) (22.1.0)\n",
      "Requirement already satisfied: pyrsistent!=0.17.0,!=0.17.1,!=0.17.2,>=0.14.0 in /Users/cassielu/anaconda3/lib/python3.11/site-packages (from jsonschema>=2.6->nbformat) (0.18.0)\n",
      "Requirement already satisfied: platformdirs>=2.5 in /Users/cassielu/anaconda3/lib/python3.11/site-packages (from jupyter-core->nbformat) (2.5.2)\n",
      "Note: you may need to restart the kernel to use updated packages.\n",
      "Requirement already satisfied: pyspellchecker in /Users/cassielu/anaconda3/lib/python3.11/site-packages (0.8.1)\n",
      "Note: you may need to restart the kernel to use updated packages.\n",
      "Collecting en-core-web-sm==3.7.1\n",
      "  Downloading https://github.com/explosion/spacy-models/releases/download/en_core_web_sm-3.7.1/en_core_web_sm-3.7.1-py3-none-any.whl (12.8 MB)\n",
      "\u001b[2K     \u001b[90m━━━━━━━━━━━━━━━━━━━━━━━━━━━━━━━━━━━━━━━━\u001b[0m \u001b[32m12.8/12.8 MB\u001b[0m \u001b[31m9.7 MB/s\u001b[0m eta \u001b[36m0:00:00\u001b[0m:00:01\u001b[0m00:01\u001b[0m\n",
      "\u001b[?25hRequirement already satisfied: spacy<3.8.0,>=3.7.2 in /Users/cassielu/anaconda3/lib/python3.11/site-packages (from en-core-web-sm==3.7.1) (3.7.2)\n",
      "Requirement already satisfied: spacy-legacy<3.1.0,>=3.0.11 in /Users/cassielu/anaconda3/lib/python3.11/site-packages (from spacy<3.8.0,>=3.7.2->en-core-web-sm==3.7.1) (3.0.12)\n",
      "Requirement already satisfied: spacy-loggers<2.0.0,>=1.0.0 in /Users/cassielu/anaconda3/lib/python3.11/site-packages (from spacy<3.8.0,>=3.7.2->en-core-web-sm==3.7.1) (1.0.5)\n",
      "Requirement already satisfied: murmurhash<1.1.0,>=0.28.0 in /Users/cassielu/anaconda3/lib/python3.11/site-packages (from spacy<3.8.0,>=3.7.2->en-core-web-sm==3.7.1) (1.0.10)\n",
      "Requirement already satisfied: cymem<2.1.0,>=2.0.2 in /Users/cassielu/anaconda3/lib/python3.11/site-packages (from spacy<3.8.0,>=3.7.2->en-core-web-sm==3.7.1) (2.0.8)\n",
      "Requirement already satisfied: preshed<3.1.0,>=3.0.2 in /Users/cassielu/anaconda3/lib/python3.11/site-packages (from spacy<3.8.0,>=3.7.2->en-core-web-sm==3.7.1) (3.0.9)\n",
      "Requirement already satisfied: thinc<8.3.0,>=8.1.8 in /Users/cassielu/anaconda3/lib/python3.11/site-packages (from spacy<3.8.0,>=3.7.2->en-core-web-sm==3.7.1) (8.2.2)\n",
      "Requirement already satisfied: wasabi<1.2.0,>=0.9.1 in /Users/cassielu/anaconda3/lib/python3.11/site-packages (from spacy<3.8.0,>=3.7.2->en-core-web-sm==3.7.1) (1.1.2)\n",
      "Requirement already satisfied: srsly<3.0.0,>=2.4.3 in /Users/cassielu/anaconda3/lib/python3.11/site-packages (from spacy<3.8.0,>=3.7.2->en-core-web-sm==3.7.1) (2.4.8)\n",
      "Requirement already satisfied: catalogue<2.1.0,>=2.0.6 in /Users/cassielu/anaconda3/lib/python3.11/site-packages (from spacy<3.8.0,>=3.7.2->en-core-web-sm==3.7.1) (2.0.10)\n",
      "Requirement already satisfied: weasel<0.4.0,>=0.1.0 in /Users/cassielu/anaconda3/lib/python3.11/site-packages (from spacy<3.8.0,>=3.7.2->en-core-web-sm==3.7.1) (0.3.4)\n",
      "Requirement already satisfied: typer<0.10.0,>=0.3.0 in /Users/cassielu/anaconda3/lib/python3.11/site-packages (from spacy<3.8.0,>=3.7.2->en-core-web-sm==3.7.1) (0.9.0)\n",
      "Requirement already satisfied: smart-open<7.0.0,>=5.2.1 in /Users/cassielu/anaconda3/lib/python3.11/site-packages (from spacy<3.8.0,>=3.7.2->en-core-web-sm==3.7.1) (5.2.1)\n",
      "Requirement already satisfied: tqdm<5.0.0,>=4.38.0 in /Users/cassielu/anaconda3/lib/python3.11/site-packages (from spacy<3.8.0,>=3.7.2->en-core-web-sm==3.7.1) (4.65.0)\n",
      "Requirement already satisfied: requests<3.0.0,>=2.13.0 in /Users/cassielu/anaconda3/lib/python3.11/site-packages (from spacy<3.8.0,>=3.7.2->en-core-web-sm==3.7.1) (2.31.0)\n",
      "Requirement already satisfied: pydantic!=1.8,!=1.8.1,<3.0.0,>=1.7.4 in /Users/cassielu/anaconda3/lib/python3.11/site-packages (from spacy<3.8.0,>=3.7.2->en-core-web-sm==3.7.1) (2.5.3)\n",
      "Requirement already satisfied: jinja2 in /Users/cassielu/anaconda3/lib/python3.11/site-packages (from spacy<3.8.0,>=3.7.2->en-core-web-sm==3.7.1) (3.1.2)\n",
      "Requirement already satisfied: setuptools in /Users/cassielu/anaconda3/lib/python3.11/site-packages (from spacy<3.8.0,>=3.7.2->en-core-web-sm==3.7.1) (68.0.0)\n",
      "Requirement already satisfied: packaging>=20.0 in /Users/cassielu/anaconda3/lib/python3.11/site-packages (from spacy<3.8.0,>=3.7.2->en-core-web-sm==3.7.1) (23.0)\n",
      "Requirement already satisfied: langcodes<4.0.0,>=3.2.0 in /Users/cassielu/anaconda3/lib/python3.11/site-packages (from spacy<3.8.0,>=3.7.2->en-core-web-sm==3.7.1) (3.3.0)\n",
      "Requirement already satisfied: numpy>=1.19.0 in /Users/cassielu/anaconda3/lib/python3.11/site-packages (from spacy<3.8.0,>=3.7.2->en-core-web-sm==3.7.1) (1.24.3)\n"
     ]
    },
    {
     "name": "stdout",
     "output_type": "stream",
     "text": [
      "Requirement already satisfied: annotated-types>=0.4.0 in /Users/cassielu/anaconda3/lib/python3.11/site-packages (from pydantic!=1.8,!=1.8.1,<3.0.0,>=1.7.4->spacy<3.8.0,>=3.7.2->en-core-web-sm==3.7.1) (0.6.0)\n",
      "Requirement already satisfied: pydantic-core==2.14.6 in /Users/cassielu/anaconda3/lib/python3.11/site-packages (from pydantic!=1.8,!=1.8.1,<3.0.0,>=1.7.4->spacy<3.8.0,>=3.7.2->en-core-web-sm==3.7.1) (2.14.6)\n",
      "Requirement already satisfied: typing-extensions>=4.6.1 in /Users/cassielu/anaconda3/lib/python3.11/site-packages (from pydantic!=1.8,!=1.8.1,<3.0.0,>=1.7.4->spacy<3.8.0,>=3.7.2->en-core-web-sm==3.7.1) (4.7.1)\n",
      "Requirement already satisfied: charset-normalizer<4,>=2 in /Users/cassielu/anaconda3/lib/python3.11/site-packages (from requests<3.0.0,>=2.13.0->spacy<3.8.0,>=3.7.2->en-core-web-sm==3.7.1) (2.0.4)\n",
      "Requirement already satisfied: idna<4,>=2.5 in /Users/cassielu/anaconda3/lib/python3.11/site-packages (from requests<3.0.0,>=2.13.0->spacy<3.8.0,>=3.7.2->en-core-web-sm==3.7.1) (3.4)\n",
      "Requirement already satisfied: urllib3<3,>=1.21.1 in /Users/cassielu/anaconda3/lib/python3.11/site-packages (from requests<3.0.0,>=2.13.0->spacy<3.8.0,>=3.7.2->en-core-web-sm==3.7.1) (1.26.16)\n",
      "Requirement already satisfied: certifi>=2017.4.17 in /Users/cassielu/anaconda3/lib/python3.11/site-packages (from requests<3.0.0,>=2.13.0->spacy<3.8.0,>=3.7.2->en-core-web-sm==3.7.1) (2023.7.22)\n",
      "Requirement already satisfied: blis<0.8.0,>=0.7.8 in /Users/cassielu/anaconda3/lib/python3.11/site-packages (from thinc<8.3.0,>=8.1.8->spacy<3.8.0,>=3.7.2->en-core-web-sm==3.7.1) (0.7.11)\n",
      "Requirement already satisfied: confection<1.0.0,>=0.0.1 in /Users/cassielu/anaconda3/lib/python3.11/site-packages (from thinc<8.3.0,>=8.1.8->spacy<3.8.0,>=3.7.2->en-core-web-sm==3.7.1) (0.1.4)\n",
      "Requirement already satisfied: click<9.0.0,>=7.1.1 in /Users/cassielu/anaconda3/lib/python3.11/site-packages (from typer<0.10.0,>=0.3.0->spacy<3.8.0,>=3.7.2->en-core-web-sm==3.7.1) (8.0.4)\n",
      "Requirement already satisfied: cloudpathlib<0.17.0,>=0.7.0 in /Users/cassielu/anaconda3/lib/python3.11/site-packages (from weasel<0.4.0,>=0.1.0->spacy<3.8.0,>=3.7.2->en-core-web-sm==3.7.1) (0.16.0)\n",
      "Requirement already satisfied: MarkupSafe>=2.0 in /Users/cassielu/anaconda3/lib/python3.11/site-packages (from jinja2->spacy<3.8.0,>=3.7.2->en-core-web-sm==3.7.1) (2.1.1)\n",
      "\u001b[38;5;2m✔ Download and installation successful\u001b[0m\n",
      "You can now load the package via spacy.load('en_core_web_sm')\n"
     ]
    }
   ],
   "source": [
    "# Install and import spacy and plotly.\n",
    "%pip install spaCy\n",
    "%pip install plotly\n",
    "%pip install nbformat --upgrade\n",
    "%pip install pyspellchecker\n",
    "!python -m spacy download en_core_web_sm"
   ]
  },
  {
   "cell_type": "code",
   "execution_count": 998,
   "metadata": {
    "executionInfo": {
     "elapsed": 270,
     "status": "ok",
     "timestamp": 1703545639178,
     "user": {
      "displayName": "Cassie Lu",
      "userId": "03362316879493319105"
     },
     "user_tz": -60
    },
    "id": "3CpYycdFY11T"
   },
   "outputs": [],
   "source": [
    "# Import spacy\n",
    "import spacy\n",
    "\n",
    "# Import os to upload documents and metadata\n",
    "import os\n",
    "\n",
    "# Import pandas DataFrame packages\n",
    "import pandas as pd\n",
    "pd.options.mode.chained_assignment = None  # default='warn'\n",
    "\n",
    "\n",
    "#Import typo and marks correction packages\n",
    "from spellchecker import SpellChecker\n",
    "\n",
    "\n",
    "\n"
   ]
  },
  {
   "cell_type": "code",
   "execution_count": 999,
   "metadata": {
    "executionInfo": {
     "elapsed": 11619,
     "status": "ok",
     "timestamp": 1703545652168,
     "user": {
      "displayName": "Cassie Lu",
      "userId": "03362316879493319105"
     },
     "user_tz": -60
    },
    "id": "xo4rHiCOZmyG"
   },
   "outputs": [],
   "source": [
    "# Create empty lists for file names and contents\n",
    "texts = []\n",
    "file_names = []\n",
    "\n",
    "# Iterate through each file in the folder\n",
    "for _file_name in os.listdir('txt_files'):\n",
    "# Look for only text files\n",
    "    if _file_name.endswith('.txt'):\n",
    "    # Append contents of each text file to text list\n",
    "        texts.append(open('txt_files' + '/' + _file_name, 'r', encoding='utf-8').read())\n",
    "        # Append name of each file to file name list\n",
    "        file_names.append(_file_name)"
   ]
  },
  {
   "cell_type": "code",
   "execution_count": 1000,
   "metadata": {
    "executionInfo": {
     "elapsed": 212,
     "status": "ok",
     "timestamp": 1703545653471,
     "user": {
      "displayName": "Cassie Lu",
      "userId": "03362316879493319105"
     },
     "user_tz": -60
    },
    "id": "5ok7syfSa35K"
   },
   "outputs": [],
   "source": [
    "# Create dictionary object associating each file name with its text\n",
    "d = {'Filename':file_names,'Text':texts}"
   ]
  },
  {
   "cell_type": "code",
   "execution_count": 1001,
   "metadata": {
    "executionInfo": {
     "elapsed": 192,
     "status": "ok",
     "timestamp": 1703545655151,
     "user": {
      "displayName": "Cassie Lu",
      "userId": "03362316879493319105"
     },
     "user_tz": -60
    },
    "id": "IIkPPR28a61W"
   },
   "outputs": [],
   "source": [
    "# Turn dictionary into a dataframe\n",
    "lyric_df = pd.DataFrame(d)"
   ]
  },
  {
   "cell_type": "code",
   "execution_count": 1002,
   "metadata": {
    "colab": {
     "base_uri": "https://localhost:8080/",
     "height": 206
    },
    "executionInfo": {
     "elapsed": 210,
     "status": "ok",
     "timestamp": 1703545656917,
     "user": {
      "displayName": "Cassie Lu",
      "userId": "03362316879493319105"
     },
     "user_tz": -60
    },
    "id": "tMsXEuyxbBnq",
    "outputId": "a574e0a9-c989-48e5-9a19-e8f3b21e7acf"
   },
   "outputs": [
    {
     "data": {
      "text/html": [
       "<div>\n",
       "<style scoped>\n",
       "    .dataframe tbody tr th:only-of-type {\n",
       "        vertical-align: middle;\n",
       "    }\n",
       "\n",
       "    .dataframe tbody tr th {\n",
       "        vertical-align: top;\n",
       "    }\n",
       "\n",
       "    .dataframe thead th {\n",
       "        text-align: right;\n",
       "    }\n",
       "</style>\n",
       "<table border=\"1\" class=\"dataframe\">\n",
       "  <thead>\n",
       "    <tr style=\"text-align: right;\">\n",
       "      <th></th>\n",
       "      <th>Filename</th>\n",
       "      <th>Text</th>\n",
       "    </tr>\n",
       "  </thead>\n",
       "  <tbody>\n",
       "    <tr>\n",
       "      <th>0</th>\n",
       "      <td>Flowers In December.txt</td>\n",
       "      <td>Before I let you down again\\nI just want to se...</td>\n",
       "    </tr>\n",
       "    <tr>\n",
       "      <th>1</th>\n",
       "      <td>Roseblood.txt</td>\n",
       "      <td>Everyday you can see\\nChanges in her hair and ...</td>\n",
       "    </tr>\n",
       "    <tr>\n",
       "      <th>2</th>\n",
       "      <td>I'm Sailin'.txt</td>\n",
       "      <td>I'm sailin', sailin'\\n(To a) place I've never ...</td>\n",
       "    </tr>\n",
       "    <tr>\n",
       "      <th>3</th>\n",
       "      <td>Still Cold.txt</td>\n",
       "      <td>You really had a million hearts to break\\nAll ...</td>\n",
       "    </tr>\n",
       "    <tr>\n",
       "      <th>4</th>\n",
       "      <td>Quiet, The Winter Harbor.txt</td>\n",
       "      <td>Well you're still walking\\nAround the block\\nY...</td>\n",
       "    </tr>\n",
       "  </tbody>\n",
       "</table>\n",
       "</div>"
      ],
      "text/plain": [
       "                       Filename  \\\n",
       "0       Flowers In December.txt   \n",
       "1                 Roseblood.txt   \n",
       "2               I'm Sailin'.txt   \n",
       "3                Still Cold.txt   \n",
       "4  Quiet, The Winter Harbor.txt   \n",
       "\n",
       "                                                Text  \n",
       "0  Before I let you down again\\nI just want to se...  \n",
       "1  Everyday you can see\\nChanges in her hair and ...  \n",
       "2  I'm sailin', sailin'\\n(To a) place I've never ...  \n",
       "3  You really had a million hearts to break\\nAll ...  \n",
       "4  Well you're still walking\\nAround the block\\nY...  "
      ]
     },
     "execution_count": 1002,
     "metadata": {},
     "output_type": "execute_result"
    }
   ],
   "source": [
    "lyric_df.head()\n"
   ]
  },
  {
   "cell_type": "markdown",
   "metadata": {
    "id": "URnJgJqlhv9V"
   },
   "source": [
    "The beginnings of some of the texts may contain extra spaces (indicated by \\t or \\n). These characters can be replaced by a single space using the str.replace() method."
   ]
  },
  {
   "cell_type": "code",
   "execution_count": 1003,
   "metadata": {
    "colab": {
     "base_uri": "https://localhost:8080/",
     "height": 206
    },
    "executionInfo": {
     "elapsed": 207,
     "status": "ok",
     "timestamp": 1703545662233,
     "user": {
      "displayName": "Cassie Lu",
      "userId": "03362316879493319105"
     },
     "user_tz": -60
    },
    "id": "8NhWRqnshxVE",
    "outputId": "f3e89bc3-41f0-4f3b-e7ae-025696139812"
   },
   "outputs": [
    {
     "data": {
      "text/html": [
       "<div>\n",
       "<style scoped>\n",
       "    .dataframe tbody tr th:only-of-type {\n",
       "        vertical-align: middle;\n",
       "    }\n",
       "\n",
       "    .dataframe tbody tr th {\n",
       "        vertical-align: top;\n",
       "    }\n",
       "\n",
       "    .dataframe thead th {\n",
       "        text-align: right;\n",
       "    }\n",
       "</style>\n",
       "<table border=\"1\" class=\"dataframe\">\n",
       "  <thead>\n",
       "    <tr style=\"text-align: right;\">\n",
       "      <th></th>\n",
       "      <th>Filename</th>\n",
       "      <th>Text</th>\n",
       "      <th>Document</th>\n",
       "    </tr>\n",
       "  </thead>\n",
       "  <tbody>\n",
       "    <tr>\n",
       "      <th>0</th>\n",
       "      <td>Flowers In December.txt</td>\n",
       "      <td>Before I let you down again I just want to see...</td>\n",
       "      <td>Before I let you down again\\nI just want to se...</td>\n",
       "    </tr>\n",
       "    <tr>\n",
       "      <th>1</th>\n",
       "      <td>Roseblood.txt</td>\n",
       "      <td>Everyday you can see Changes in her hair and s...</td>\n",
       "      <td>Everyday you can see\\nChanges in her hair and ...</td>\n",
       "    </tr>\n",
       "    <tr>\n",
       "      <th>2</th>\n",
       "      <td>I'm Sailin'.txt</td>\n",
       "      <td>I'm sailin', sailin' (To a) place I've never s...</td>\n",
       "      <td>I'm sailin', sailin'\\n(To a) place I've never ...</td>\n",
       "    </tr>\n",
       "    <tr>\n",
       "      <th>3</th>\n",
       "      <td>Still Cold.txt</td>\n",
       "      <td>You really had a million hearts to break All t...</td>\n",
       "      <td>You really had a million hearts to break\\nAll ...</td>\n",
       "    </tr>\n",
       "    <tr>\n",
       "      <th>4</th>\n",
       "      <td>Quiet, The Winter Harbor.txt</td>\n",
       "      <td>Well you're still walking Around the block You...</td>\n",
       "      <td>Well you're still walking\\nAround the block\\nY...</td>\n",
       "    </tr>\n",
       "  </tbody>\n",
       "</table>\n",
       "</div>"
      ],
      "text/plain": [
       "                       Filename  \\\n",
       "0       Flowers In December.txt   \n",
       "1                 Roseblood.txt   \n",
       "2               I'm Sailin'.txt   \n",
       "3                Still Cold.txt   \n",
       "4  Quiet, The Winter Harbor.txt   \n",
       "\n",
       "                                                Text  \\\n",
       "0  Before I let you down again I just want to see...   \n",
       "1  Everyday you can see Changes in her hair and s...   \n",
       "2  I'm sailin', sailin' (To a) place I've never s...   \n",
       "3  You really had a million hearts to break All t...   \n",
       "4  Well you're still walking Around the block You...   \n",
       "\n",
       "                                            Document  \n",
       "0  Before I let you down again\\nI just want to se...  \n",
       "1  Everyday you can see\\nChanges in her hair and ...  \n",
       "2  I'm sailin', sailin'\\n(To a) place I've never ...  \n",
       "3  You really had a million hearts to break\\nAll ...  \n",
       "4  Well you're still walking\\nAround the block\\nY...  "
      ]
     },
     "execution_count": 1003,
     "metadata": {},
     "output_type": "execute_result"
    }
   ],
   "source": [
    "lyric_df['Document'] = lyric_df['Text'].copy()\n",
    "\n",
    "# Remove extra spaces from papers\n",
    "lyric_df['Text'] = lyric_df['Text'].str.replace('\\s+', ' ', regex=True).str.strip()\n",
    "lyric_df.head()\n"
   ]
  },
  {
   "cell_type": "markdown",
   "metadata": {},
   "source": [
    "checking typos by using spellchecker"
   ]
  },
  {
   "cell_type": "code",
   "execution_count": 1004,
   "metadata": {},
   "outputs": [
    {
     "data": {
      "text/html": [
       "<div>\n",
       "<style scoped>\n",
       "    .dataframe tbody tr th:only-of-type {\n",
       "        vertical-align: middle;\n",
       "    }\n",
       "\n",
       "    .dataframe tbody tr th {\n",
       "        vertical-align: top;\n",
       "    }\n",
       "\n",
       "    .dataframe thead th {\n",
       "        text-align: right;\n",
       "    }\n",
       "</style>\n",
       "<table border=\"1\" class=\"dataframe\">\n",
       "  <thead>\n",
       "    <tr style=\"text-align: right;\">\n",
       "      <th></th>\n",
       "      <th>Filename</th>\n",
       "      <th>Text</th>\n",
       "      <th>Document</th>\n",
       "      <th>Typos</th>\n",
       "    </tr>\n",
       "  </thead>\n",
       "  <tbody>\n",
       "    <tr>\n",
       "      <th>0</th>\n",
       "      <td>Flowers In December.txt</td>\n",
       "      <td>Before I let you down again I just want to see...</td>\n",
       "      <td>Before I let you down again\\nI just want to se...</td>\n",
       "      <td>[december, i've]</td>\n",
       "    </tr>\n",
       "    <tr>\n",
       "      <th>1</th>\n",
       "      <td>Roseblood.txt</td>\n",
       "      <td>Everyday you can see Changes in her hair and s...</td>\n",
       "      <td>Everyday you can see\\nChanges in her hair and ...</td>\n",
       "      <td>[ok]</td>\n",
       "    </tr>\n",
       "    <tr>\n",
       "      <th>2</th>\n",
       "      <td>I'm Sailin'.txt</td>\n",
       "      <td>I'm sailin', sailin' (To a) place I've never s...</td>\n",
       "      <td>I'm sailin', sailin'\\n(To a) place I've never ...</td>\n",
       "      <td>[orleans, rainin', sam, (to, blowin', i'm, i'v...</td>\n",
       "    </tr>\n",
       "    <tr>\n",
       "      <th>3</th>\n",
       "      <td>Still Cold.txt</td>\n",
       "      <td>You really had a million hearts to break All t...</td>\n",
       "      <td>You really had a million hearts to break\\nAll ...</td>\n",
       "      <td>[places,]</td>\n",
       "    </tr>\n",
       "    <tr>\n",
       "      <th>4</th>\n",
       "      <td>Quiet, The Winter Harbor.txt</td>\n",
       "      <td>Well you're still walking Around the block You...</td>\n",
       "      <td>Well you're still walking\\nAround the block\\nY...</td>\n",
       "      <td>[say,, i'd, i'm, \"come, over\", well,]</td>\n",
       "    </tr>\n",
       "    <tr>\n",
       "      <th>5</th>\n",
       "      <td>Five String Serenade.txt</td>\n",
       "      <td>This is my five string serenade Beneath the wa...</td>\n",
       "      <td>This is my five string serenade\\nBeneath the w...</td>\n",
       "      <td>[i'm]</td>\n",
       "    </tr>\n",
       "    <tr>\n",
       "      <th>6</th>\n",
       "      <td>That Way Again.txt</td>\n",
       "      <td>He says that he tries to solve all his problem...</td>\n",
       "      <td>He says that he tries to solve all his problem...</td>\n",
       "      <td>[on,, i'm]</td>\n",
       "    </tr>\n",
       "    <tr>\n",
       "      <th>7</th>\n",
       "      <td>Flying Low.txt</td>\n",
       "      <td>Well, I'm flying low in London's past days It'...</td>\n",
       "      <td>Well, I'm flying low in London's past days\\nIt...</td>\n",
       "      <td>[he,, you,, who,, london's, i'm, parlour, well,]</td>\n",
       "    </tr>\n",
       "    <tr>\n",
       "      <th>8</th>\n",
       "      <td>Lay Myself Down.txt</td>\n",
       "      <td>Just like that, she follows me My wings are un...</td>\n",
       "      <td>Just like that, she follows me\\nMy wings are u...</td>\n",
       "      <td>[that,, i'll, far,]</td>\n",
       "    </tr>\n",
       "    <tr>\n",
       "      <th>9</th>\n",
       "      <td>Fade Into You.txt</td>\n",
       "      <td>I want to hold the hand inside you I want to t...</td>\n",
       "      <td>I want to hold the hand inside you\\nI want to ...</td>\n",
       "      <td>[life,]</td>\n",
       "    </tr>\n",
       "    <tr>\n",
       "      <th>10</th>\n",
       "      <td>Blue Flower.txt</td>\n",
       "      <td>Waitin' for a sign from you Waitin' for a sign...</td>\n",
       "      <td>Waitin' for a sign from you\\nWaitin' for a sig...</td>\n",
       "      <td>[do?, end?, high-heeled, shinin', sparklin', i...</td>\n",
       "    </tr>\n",
       "    <tr>\n",
       "      <th>11</th>\n",
       "      <td>Unreflected.txt</td>\n",
       "      <td>Once it's life's fortunate Isn't this so The u...</td>\n",
       "      <td>Once it's life's fortunate\\nIsn't this so\\nThe...</td>\n",
       "      <td>[transfits]</td>\n",
       "    </tr>\n",
       "    <tr>\n",
       "      <th>12</th>\n",
       "      <td>I've Gotta Stop.txt</td>\n",
       "      <td>I've gotta stop Making you stay I've gotta kno...</td>\n",
       "      <td>I've gotta stop\\nMaking you stay\\nI've gotta k...</td>\n",
       "      <td>[i'm, i've]</td>\n",
       "    </tr>\n",
       "    <tr>\n",
       "      <th>13</th>\n",
       "      <td>Spoon.txt</td>\n",
       "      <td>I ain't no spoon Ain't nobody gonna turn me ar...</td>\n",
       "      <td>I ain't no spoon\\nAin't nobody gonna turn me a...</td>\n",
       "      <td>[no,, i'm]</td>\n",
       "    </tr>\n",
       "    <tr>\n",
       "      <th>14</th>\n",
       "      <td>Happy.txt</td>\n",
       "      <td>Field of light They hold me inside Count my st...</td>\n",
       "      <td>Field of light\\nThey hold me inside\\nCount my ...</td>\n",
       "      <td>[else's]</td>\n",
       "    </tr>\n",
       "    <tr>\n",
       "      <th>15</th>\n",
       "      <td>California.txt</td>\n",
       "      <td>I think I'm going back to California Somewhere...</td>\n",
       "      <td>I think I'm going back to California\\nSomewher...</td>\n",
       "      <td>[i'll, my,, california,, i'm, california, far,...</td>\n",
       "    </tr>\n",
       "    <tr>\n",
       "      <th>16</th>\n",
       "      <td>Bells Ring.txt</td>\n",
       "      <td>Bells ring into the night Like a mystery Sound...</td>\n",
       "      <td>Bells ring into the night\\nLike a mystery\\nSou...</td>\n",
       "      <td>[i'm]</td>\n",
       "    </tr>\n",
       "    <tr>\n",
       "      <th>17</th>\n",
       "      <td>I've Been Let Down.txt</td>\n",
       "      <td>I've been let down And I'm still coming round ...</td>\n",
       "      <td>I've been let down\\nAnd I'm still coming round...</td>\n",
       "      <td>[gettin', (all), there,, i'm, i've]</td>\n",
       "    </tr>\n",
       "    <tr>\n",
       "      <th>18</th>\n",
       "      <td>I'm Less Here.txt</td>\n",
       "      <td>Behind my life is different colours They go aw...</td>\n",
       "      <td>Behind my life is different colours\\nThey go a...</td>\n",
       "      <td>[on,, between,, unknown,, why,, there,, me,, w...</td>\n",
       "    </tr>\n",
       "    <tr>\n",
       "      <th>19</th>\n",
       "      <td>Into Dust.txt</td>\n",
       "      <td>Still falling Breathless and on again Inside t...</td>\n",
       "      <td>Still falling\\nBreathless and on again\\nInside...</td>\n",
       "      <td>[around,]</td>\n",
       "    </tr>\n",
       "    <tr>\n",
       "      <th>20</th>\n",
       "      <td>Mary Of Silence.txt</td>\n",
       "      <td>Oh Mary of silence You pick my heart with a sm...</td>\n",
       "      <td>Oh Mary of silence\\nYou pick my heart with a s...</td>\n",
       "      <td>[oh,, in�?, myself...myself, mary]</td>\n",
       "    </tr>\n",
       "    <tr>\n",
       "      <th>21</th>\n",
       "      <td>Give You My Lovin'.txt</td>\n",
       "      <td>Give you my lovin' Seven days a week I'll be y...</td>\n",
       "      <td>Give you my lovin'\\nSeven days a week\\nI'll be...</td>\n",
       "      <td>[raining,, lovin', i'll, you,, see,, i'm, me,,...</td>\n",
       "    </tr>\n",
       "    <tr>\n",
       "      <th>22</th>\n",
       "      <td>Cry, Cry.txt</td>\n",
       "      <td>Cry, cry for you Just like you knew I wouldn't...</td>\n",
       "      <td>Cry, cry for you\\nJust like you knew I wouldn'...</td>\n",
       "      <td>[cry,]</td>\n",
       "    </tr>\n",
       "    <tr>\n",
       "      <th>23</th>\n",
       "      <td>Taste Of Blood.txt</td>\n",
       "      <td>Red oh red The taste of blood On lips of wine ...</td>\n",
       "      <td>Red oh red\\nThe taste of blood\\nOn lips of win...</td>\n",
       "      <td>[slippin']</td>\n",
       "    </tr>\n",
       "    <tr>\n",
       "      <th>24</th>\n",
       "      <td>Halah.txt</td>\n",
       "      <td>Well I think I see another side Maybe just ano...</td>\n",
       "      <td>Well I think I see another side\\nMaybe just an...</td>\n",
       "      <td>[left., else's, dead., mind?, now., i'm, time....</td>\n",
       "    </tr>\n",
       "    <tr>\n",
       "      <th>25</th>\n",
       "      <td>So Tonight That I Might See.txt</td>\n",
       "      <td>Come up crash with the muses Fells dust into a...</td>\n",
       "      <td>Come up crash with the muses\\nFells dust into ...</td>\n",
       "      <td>[i'll]</td>\n",
       "    </tr>\n",
       "    <tr>\n",
       "      <th>26</th>\n",
       "      <td>Does Someone Have Your Baby Now.txt</td>\n",
       "      <td>Does someone have your baby now Does someone f...</td>\n",
       "      <td>Does someone have your baby now\\nDoes someone ...</td>\n",
       "      <td>[i'll]</td>\n",
       "    </tr>\n",
       "    <tr>\n",
       "      <th>27</th>\n",
       "      <td>Rhymes Of An Hour.txt</td>\n",
       "      <td>Cannot hear what you're saying Could I tell yo...</td>\n",
       "      <td>Cannot hear what you're saying\\nCould I tell y...</td>\n",
       "      <td>[(lie, home), goin', nothin', and), searchin',...</td>\n",
       "    </tr>\n",
       "    <tr>\n",
       "      <th>28</th>\n",
       "      <td>Free.txt</td>\n",
       "      <td>I fell asleep in the silence Before the street...</td>\n",
       "      <td>I fell asleep in the silence\\nBefore the stree...</td>\n",
       "      <td>[i'm, i'll]</td>\n",
       "    </tr>\n",
       "    <tr>\n",
       "      <th>29</th>\n",
       "      <td>Common Burn.txt</td>\n",
       "      <td>Simple things like your over coat and your bea...</td>\n",
       "      <td>Simple things like your over coat\\nand your be...</td>\n",
       "      <td>[atoms,]</td>\n",
       "    </tr>\n",
       "    <tr>\n",
       "      <th>30</th>\n",
       "      <td>She Hangs Brightly.txt</td>\n",
       "      <td>She hangs brightly from the tree Wonders what ...</td>\n",
       "      <td>She hangs brightly from the tree\\nWonders what...</td>\n",
       "      <td>[inside..., down., i'm, lovin']</td>\n",
       "    </tr>\n",
       "    <tr>\n",
       "      <th>31</th>\n",
       "      <td>Seasons Of Your Day.txt</td>\n",
       "      <td>Won't you let me come inside? I've released al...</td>\n",
       "      <td>Won't you let me come inside?\\nI've released a...</td>\n",
       "      <td>[away,, i've, know,, inside?]</td>\n",
       "    </tr>\n",
       "    <tr>\n",
       "      <th>32</th>\n",
       "      <td>Sparrow.txt</td>\n",
       "      <td>You used to say don't give me things Look at m...</td>\n",
       "      <td>You used to say don't give me things\\nLook at ...</td>\n",
       "      <td>[eyes,, i'm, i've, i'll]</td>\n",
       "    </tr>\n",
       "    <tr>\n",
       "      <th>33</th>\n",
       "      <td>She's My Baby.txt</td>\n",
       "      <td>She's my baby She belongs to me Yesterday she ...</td>\n",
       "      <td>She's my baby\\nShe belongs to me\\nYesterday sh...</td>\n",
       "      <td>[thinkin', feelin', goin', flyin', i'm, walkin...</td>\n",
       "    </tr>\n",
       "    <tr>\n",
       "      <th>34</th>\n",
       "      <td>Take Everything.txt</td>\n",
       "      <td>I can't believe your thinking Save everyone, i...</td>\n",
       "      <td>I can't believe your thinking\\nSave everyone, ...</td>\n",
       "      <td>[because,, everyone,, you,]</td>\n",
       "    </tr>\n",
       "    <tr>\n",
       "      <th>35</th>\n",
       "      <td>I’m Gonna Bake My Biscuit.txt</td>\n",
       "      <td>I've got a brand new skillet and a brand new l...</td>\n",
       "      <td>\\nI've got a brand new skillet and a brand new...</td>\n",
       "      <td>[that,, somethin',, christmas, boy,, bread,, i...</td>\n",
       "    </tr>\n",
       "    <tr>\n",
       "      <th>36</th>\n",
       "      <td>Look On Down From The Bridge.txt</td>\n",
       "      <td>Look on down from the bridge There's still fou...</td>\n",
       "      <td>Look on down from the bridge\\nThere's still fo...</td>\n",
       "      <td>[raining,, i'll, i'm, yeah,, gone,]</td>\n",
       "    </tr>\n",
       "    <tr>\n",
       "      <th>37</th>\n",
       "      <td>Hair and Skin.txt</td>\n",
       "      <td>Your hair and your eyes I saw them in the nigh...</td>\n",
       "      <td>\\nYour hair and your eyes\\nI saw them in the n...</td>\n",
       "      <td>[itself?, face,, swimmin', red?]</td>\n",
       "    </tr>\n",
       "    <tr>\n",
       "      <th>38</th>\n",
       "      <td>All Your Sisters.txt</td>\n",
       "      <td>And I knew I was close to you And I will Catch...</td>\n",
       "      <td>And I knew I was close to you\\nAnd I will\\nCat...</td>\n",
       "      <td>[i'm, feel,]</td>\n",
       "    </tr>\n",
       "    <tr>\n",
       "      <th>39</th>\n",
       "      <td>Blue Light.txt</td>\n",
       "      <td>There's a blue light In my best friend's room ...</td>\n",
       "      <td>There's a blue light\\nIn my best friend's room...</td>\n",
       "      <td>[light,]</td>\n",
       "    </tr>\n",
       "    <tr>\n",
       "      <th>40</th>\n",
       "      <td>Be My Angel.txt</td>\n",
       "      <td>They say it's me that makes you do things you ...</td>\n",
       "      <td>They say it's me\\nthat makes you do things\\nyo...</td>\n",
       "      <td>[]</td>\n",
       "    </tr>\n",
       "    <tr>\n",
       "      <th>41</th>\n",
       "      <td>Before I Sleep.txt</td>\n",
       "      <td>If it's The truth That's all I know I look for...</td>\n",
       "      <td>If it's\\nThe truth\\nThat's all I know\\nI look ...</td>\n",
       "      <td>[i'll]</td>\n",
       "    </tr>\n",
       "    <tr>\n",
       "      <th>42</th>\n",
       "      <td>Under My Car.txt</td>\n",
       "      <td>Saw you layin' under my car, but you took it t...</td>\n",
       "      <td>\\n\\nSaw you layin' under my car, but you took ...</td>\n",
       "      <td>[mean,, car,, away,, crying,, layin', you,, i'...</td>\n",
       "    </tr>\n",
       "    <tr>\n",
       "      <th>43</th>\n",
       "      <td>In The Kingdom.txt</td>\n",
       "      <td>I took that train into the city You know the o...</td>\n",
       "      <td>I took that train into the city\\nYou know the ...</td>\n",
       "      <td>[stairs,]</td>\n",
       "    </tr>\n",
       "    <tr>\n",
       "      <th>44</th>\n",
       "      <td>Disappear.txt</td>\n",
       "      <td>Just because You call my name I cannot hear It...</td>\n",
       "      <td>Just because\\nYou call my name\\nI cannot hear\\...</td>\n",
       "      <td>[i'll, your), (and, you)...just...(fallen...),...</td>\n",
       "    </tr>\n",
       "    <tr>\n",
       "      <th>45</th>\n",
       "      <td>Ghost Highway.txt</td>\n",
       "      <td>You're a ghost on the highway And I'll love yo...</td>\n",
       "      <td>You're a ghost on the highway\\nAnd I'll love y...</td>\n",
       "      <td>[i'll]</td>\n",
       "    </tr>\n",
       "    <tr>\n",
       "      <th>46</th>\n",
       "      <td>Ride It On.txt</td>\n",
       "      <td>Ride it on baby Into my view Ride it on baby I...</td>\n",
       "      <td>Ride it on baby\\nInto my view\\nRide it on baby...</td>\n",
       "      <td>[i'm, lie,, well,]</td>\n",
       "    </tr>\n",
       "    <tr>\n",
       "      <th>47</th>\n",
       "      <td>Still.txt</td>\n",
       "      <td>I thought of you all of the time, love And the...</td>\n",
       "      <td>I thought of you all of the time, love\\nAnd th...</td>\n",
       "      <td>[time,]</td>\n",
       "    </tr>\n",
       "    <tr>\n",
       "      <th>48</th>\n",
       "      <td>Tell Your Honey.txt</td>\n",
       "      <td>Tell your honey Living all alone I guess i'll ...</td>\n",
       "      <td>Tell your honey\\nLiving all alone\\nI guess i'l...</td>\n",
       "      <td>[i'm, i've, i'll]</td>\n",
       "    </tr>\n",
       "    <tr>\n",
       "      <th>49</th>\n",
       "      <td>Wasted.txt</td>\n",
       "      <td>After I stuck my hands Into your ground And pu...</td>\n",
       "      <td>After I stuck my hands\\nInto your ground\\nAnd ...</td>\n",
       "      <td>[else's, i'd]</td>\n",
       "    </tr>\n",
       "    <tr>\n",
       "      <th>50</th>\n",
       "      <td>Things.txt</td>\n",
       "      <td>so that's what you need Picking up all the thi...</td>\n",
       "      <td>\\nso that's what you need\\nPicking up all the ...</td>\n",
       "      <td>[be,]</td>\n",
       "    </tr>\n",
       "    <tr>\n",
       "      <th>51</th>\n",
       "      <td>Umbilical.txt</td>\n",
       "      <td>She should have seen the thing in mother's bel...</td>\n",
       "      <td>She should have seen the thing in mother's bel...</td>\n",
       "      <td>[(her, now), belly...opens, sunlight...makes, ...</td>\n",
       "    </tr>\n",
       "  </tbody>\n",
       "</table>\n",
       "</div>"
      ],
      "text/plain": [
       "                               Filename  \\\n",
       "0               Flowers In December.txt   \n",
       "1                         Roseblood.txt   \n",
       "2                       I'm Sailin'.txt   \n",
       "3                        Still Cold.txt   \n",
       "4          Quiet, The Winter Harbor.txt   \n",
       "5              Five String Serenade.txt   \n",
       "6                    That Way Again.txt   \n",
       "7                        Flying Low.txt   \n",
       "8                   Lay Myself Down.txt   \n",
       "9                     Fade Into You.txt   \n",
       "10                      Blue Flower.txt   \n",
       "11                      Unreflected.txt   \n",
       "12                  I've Gotta Stop.txt   \n",
       "13                            Spoon.txt   \n",
       "14                            Happy.txt   \n",
       "15                       California.txt   \n",
       "16                       Bells Ring.txt   \n",
       "17               I've Been Let Down.txt   \n",
       "18                    I'm Less Here.txt   \n",
       "19                        Into Dust.txt   \n",
       "20                  Mary Of Silence.txt   \n",
       "21               Give You My Lovin'.txt   \n",
       "22                         Cry, Cry.txt   \n",
       "23                   Taste Of Blood.txt   \n",
       "24                            Halah.txt   \n",
       "25      So Tonight That I Might See.txt   \n",
       "26  Does Someone Have Your Baby Now.txt   \n",
       "27                Rhymes Of An Hour.txt   \n",
       "28                             Free.txt   \n",
       "29                      Common Burn.txt   \n",
       "30               She Hangs Brightly.txt   \n",
       "31              Seasons Of Your Day.txt   \n",
       "32                          Sparrow.txt   \n",
       "33                    She's My Baby.txt   \n",
       "34                  Take Everything.txt   \n",
       "35        I’m Gonna Bake My Biscuit.txt   \n",
       "36     Look On Down From The Bridge.txt   \n",
       "37                    Hair and Skin.txt   \n",
       "38                 All Your Sisters.txt   \n",
       "39                       Blue Light.txt   \n",
       "40                      Be My Angel.txt   \n",
       "41                   Before I Sleep.txt   \n",
       "42                     Under My Car.txt   \n",
       "43                   In The Kingdom.txt   \n",
       "44                        Disappear.txt   \n",
       "45                    Ghost Highway.txt   \n",
       "46                       Ride It On.txt   \n",
       "47                            Still.txt   \n",
       "48                  Tell Your Honey.txt   \n",
       "49                           Wasted.txt   \n",
       "50                           Things.txt   \n",
       "51                        Umbilical.txt   \n",
       "\n",
       "                                                 Text  \\\n",
       "0   Before I let you down again I just want to see...   \n",
       "1   Everyday you can see Changes in her hair and s...   \n",
       "2   I'm sailin', sailin' (To a) place I've never s...   \n",
       "3   You really had a million hearts to break All t...   \n",
       "4   Well you're still walking Around the block You...   \n",
       "5   This is my five string serenade Beneath the wa...   \n",
       "6   He says that he tries to solve all his problem...   \n",
       "7   Well, I'm flying low in London's past days It'...   \n",
       "8   Just like that, she follows me My wings are un...   \n",
       "9   I want to hold the hand inside you I want to t...   \n",
       "10  Waitin' for a sign from you Waitin' for a sign...   \n",
       "11  Once it's life's fortunate Isn't this so The u...   \n",
       "12  I've gotta stop Making you stay I've gotta kno...   \n",
       "13  I ain't no spoon Ain't nobody gonna turn me ar...   \n",
       "14  Field of light They hold me inside Count my st...   \n",
       "15  I think I'm going back to California Somewhere...   \n",
       "16  Bells ring into the night Like a mystery Sound...   \n",
       "17  I've been let down And I'm still coming round ...   \n",
       "18  Behind my life is different colours They go aw...   \n",
       "19  Still falling Breathless and on again Inside t...   \n",
       "20  Oh Mary of silence You pick my heart with a sm...   \n",
       "21  Give you my lovin' Seven days a week I'll be y...   \n",
       "22  Cry, cry for you Just like you knew I wouldn't...   \n",
       "23  Red oh red The taste of blood On lips of wine ...   \n",
       "24  Well I think I see another side Maybe just ano...   \n",
       "25  Come up crash with the muses Fells dust into a...   \n",
       "26  Does someone have your baby now Does someone f...   \n",
       "27  Cannot hear what you're saying Could I tell yo...   \n",
       "28  I fell asleep in the silence Before the street...   \n",
       "29  Simple things like your over coat and your bea...   \n",
       "30  She hangs brightly from the tree Wonders what ...   \n",
       "31  Won't you let me come inside? I've released al...   \n",
       "32  You used to say don't give me things Look at m...   \n",
       "33  She's my baby She belongs to me Yesterday she ...   \n",
       "34  I can't believe your thinking Save everyone, i...   \n",
       "35  I've got a brand new skillet and a brand new l...   \n",
       "36  Look on down from the bridge There's still fou...   \n",
       "37  Your hair and your eyes I saw them in the nigh...   \n",
       "38  And I knew I was close to you And I will Catch...   \n",
       "39  There's a blue light In my best friend's room ...   \n",
       "40  They say it's me that makes you do things you ...   \n",
       "41  If it's The truth That's all I know I look for...   \n",
       "42  Saw you layin' under my car, but you took it t...   \n",
       "43  I took that train into the city You know the o...   \n",
       "44  Just because You call my name I cannot hear It...   \n",
       "45  You're a ghost on the highway And I'll love yo...   \n",
       "46  Ride it on baby Into my view Ride it on baby I...   \n",
       "47  I thought of you all of the time, love And the...   \n",
       "48  Tell your honey Living all alone I guess i'll ...   \n",
       "49  After I stuck my hands Into your ground And pu...   \n",
       "50  so that's what you need Picking up all the thi...   \n",
       "51  She should have seen the thing in mother's bel...   \n",
       "\n",
       "                                             Document  \\\n",
       "0   Before I let you down again\\nI just want to se...   \n",
       "1   Everyday you can see\\nChanges in her hair and ...   \n",
       "2   I'm sailin', sailin'\\n(To a) place I've never ...   \n",
       "3   You really had a million hearts to break\\nAll ...   \n",
       "4   Well you're still walking\\nAround the block\\nY...   \n",
       "5   This is my five string serenade\\nBeneath the w...   \n",
       "6   He says that he tries to solve all his problem...   \n",
       "7   Well, I'm flying low in London's past days\\nIt...   \n",
       "8   Just like that, she follows me\\nMy wings are u...   \n",
       "9   I want to hold the hand inside you\\nI want to ...   \n",
       "10  Waitin' for a sign from you\\nWaitin' for a sig...   \n",
       "11  Once it's life's fortunate\\nIsn't this so\\nThe...   \n",
       "12  I've gotta stop\\nMaking you stay\\nI've gotta k...   \n",
       "13  I ain't no spoon\\nAin't nobody gonna turn me a...   \n",
       "14  Field of light\\nThey hold me inside\\nCount my ...   \n",
       "15  I think I'm going back to California\\nSomewher...   \n",
       "16  Bells ring into the night\\nLike a mystery\\nSou...   \n",
       "17  I've been let down\\nAnd I'm still coming round...   \n",
       "18  Behind my life is different colours\\nThey go a...   \n",
       "19  Still falling\\nBreathless and on again\\nInside...   \n",
       "20  Oh Mary of silence\\nYou pick my heart with a s...   \n",
       "21  Give you my lovin'\\nSeven days a week\\nI'll be...   \n",
       "22  Cry, cry for you\\nJust like you knew I wouldn'...   \n",
       "23  Red oh red\\nThe taste of blood\\nOn lips of win...   \n",
       "24  Well I think I see another side\\nMaybe just an...   \n",
       "25  Come up crash with the muses\\nFells dust into ...   \n",
       "26  Does someone have your baby now\\nDoes someone ...   \n",
       "27  Cannot hear what you're saying\\nCould I tell y...   \n",
       "28  I fell asleep in the silence\\nBefore the stree...   \n",
       "29  Simple things like your over coat\\nand your be...   \n",
       "30  She hangs brightly from the tree\\nWonders what...   \n",
       "31  Won't you let me come inside?\\nI've released a...   \n",
       "32  You used to say don't give me things\\nLook at ...   \n",
       "33  She's my baby\\nShe belongs to me\\nYesterday sh...   \n",
       "34  I can't believe your thinking\\nSave everyone, ...   \n",
       "35  \\nI've got a brand new skillet and a brand new...   \n",
       "36  Look on down from the bridge\\nThere's still fo...   \n",
       "37  \\nYour hair and your eyes\\nI saw them in the n...   \n",
       "38  And I knew I was close to you\\nAnd I will\\nCat...   \n",
       "39  There's a blue light\\nIn my best friend's room...   \n",
       "40  They say it's me\\nthat makes you do things\\nyo...   \n",
       "41  If it's\\nThe truth\\nThat's all I know\\nI look ...   \n",
       "42  \\n\\nSaw you layin' under my car, but you took ...   \n",
       "43  I took that train into the city\\nYou know the ...   \n",
       "44  Just because\\nYou call my name\\nI cannot hear\\...   \n",
       "45  You're a ghost on the highway\\nAnd I'll love y...   \n",
       "46  Ride it on baby\\nInto my view\\nRide it on baby...   \n",
       "47  I thought of you all of the time, love\\nAnd th...   \n",
       "48  Tell your honey\\nLiving all alone\\nI guess i'l...   \n",
       "49  After I stuck my hands\\nInto your ground\\nAnd ...   \n",
       "50  \\nso that's what you need\\nPicking up all the ...   \n",
       "51  She should have seen the thing in mother's bel...   \n",
       "\n",
       "                                                Typos  \n",
       "0                                    [december, i've]  \n",
       "1                                                [ok]  \n",
       "2   [orleans, rainin', sam, (to, blowin', i'm, i'v...  \n",
       "3                                           [places,]  \n",
       "4               [say,, i'd, i'm, \"come, over\", well,]  \n",
       "5                                               [i'm]  \n",
       "6                                          [on,, i'm]  \n",
       "7    [he,, you,, who,, london's, i'm, parlour, well,]  \n",
       "8                                 [that,, i'll, far,]  \n",
       "9                                             [life,]  \n",
       "10  [do?, end?, high-heeled, shinin', sparklin', i...  \n",
       "11                                        [transfits]  \n",
       "12                                        [i'm, i've]  \n",
       "13                                         [no,, i'm]  \n",
       "14                                           [else's]  \n",
       "15  [i'll, my,, california,, i'm, california, far,...  \n",
       "16                                              [i'm]  \n",
       "17                [gettin', (all), there,, i'm, i've]  \n",
       "18  [on,, between,, unknown,, why,, there,, me,, w...  \n",
       "19                                          [around,]  \n",
       "20                 [oh,, in�?, myself...myself, mary]  \n",
       "21  [raining,, lovin', i'll, you,, see,, i'm, me,,...  \n",
       "22                                             [cry,]  \n",
       "23                                         [slippin']  \n",
       "24  [left., else's, dead., mind?, now., i'm, time....  \n",
       "25                                             [i'll]  \n",
       "26                                             [i'll]  \n",
       "27  [(lie, home), goin', nothin', and), searchin',...  \n",
       "28                                        [i'm, i'll]  \n",
       "29                                           [atoms,]  \n",
       "30                    [inside..., down., i'm, lovin']  \n",
       "31                      [away,, i've, know,, inside?]  \n",
       "32                           [eyes,, i'm, i've, i'll]  \n",
       "33  [thinkin', feelin', goin', flyin', i'm, walkin...  \n",
       "34                        [because,, everyone,, you,]  \n",
       "35  [that,, somethin',, christmas, boy,, bread,, i...  \n",
       "36                [raining,, i'll, i'm, yeah,, gone,]  \n",
       "37                   [itself?, face,, swimmin', red?]  \n",
       "38                                       [i'm, feel,]  \n",
       "39                                           [light,]  \n",
       "40                                                 []  \n",
       "41                                             [i'll]  \n",
       "42  [mean,, car,, away,, crying,, layin', you,, i'...  \n",
       "43                                          [stairs,]  \n",
       "44  [i'll, your), (and, you)...just...(fallen...),...  \n",
       "45                                             [i'll]  \n",
       "46                                 [i'm, lie,, well,]  \n",
       "47                                            [time,]  \n",
       "48                                  [i'm, i've, i'll]  \n",
       "49                                      [else's, i'd]  \n",
       "50                                              [be,]  \n",
       "51  [(her, now), belly...opens, sunlight...makes, ...  "
      ]
     },
     "execution_count": 1004,
     "metadata": {},
     "output_type": "execute_result"
    }
   ],
   "source": [
    "\n",
    "spell = SpellChecker()\n",
    "\n",
    "# Create a copy of lyric_df\n",
    "typo_df = lyric_df.copy()\n",
    "\n",
    "def find_typos(text):\n",
    "    misspelled_words = spell.unknown(text.split())\n",
    "    return list(misspelled_words)\n",
    "\n",
    "# Apply the function to each row in the 'Text' column\n",
    "typo_df['Typos'] = typo_df['Text'].apply(find_typos)\n",
    "\n",
    "# Display the DataFrame with the identified typos\n",
    "typo_df\n"
   ]
  },
  {
   "cell_type": "markdown",
   "metadata": {},
   "source": [
    "We  need to fix document by correcting text column.Firstly, replacing \"in'\" by\"ing\"."
   ]
  },
  {
   "cell_type": "code",
   "execution_count": 1005,
   "metadata": {},
   "outputs": [
    {
     "data": {
      "text/html": [
       "<div>\n",
       "<style scoped>\n",
       "    .dataframe tbody tr th:only-of-type {\n",
       "        vertical-align: middle;\n",
       "    }\n",
       "\n",
       "    .dataframe tbody tr th {\n",
       "        vertical-align: top;\n",
       "    }\n",
       "\n",
       "    .dataframe thead th {\n",
       "        text-align: right;\n",
       "    }\n",
       "</style>\n",
       "<table border=\"1\" class=\"dataframe\">\n",
       "  <thead>\n",
       "    <tr style=\"text-align: right;\">\n",
       "      <th></th>\n",
       "      <th>Filename</th>\n",
       "      <th>Text</th>\n",
       "      <th>Document</th>\n",
       "    </tr>\n",
       "  </thead>\n",
       "  <tbody>\n",
       "    <tr>\n",
       "      <th>0</th>\n",
       "      <td>Flowers In December.txt</td>\n",
       "      <td>Before I let you down again I just want to see...</td>\n",
       "      <td>Before I let you down again\\nI just want to se...</td>\n",
       "    </tr>\n",
       "    <tr>\n",
       "      <th>1</th>\n",
       "      <td>Roseblood.txt</td>\n",
       "      <td>Everyday you can see Changes in her hair and s...</td>\n",
       "      <td>Everyday you can see\\nChanges in her hair and ...</td>\n",
       "    </tr>\n",
       "    <tr>\n",
       "      <th>2</th>\n",
       "      <td>I'm Sailing.txt</td>\n",
       "      <td>I'm sailing, sailing (To a) place I've never s...</td>\n",
       "      <td>I'm sailin', sailin'\\n(To a) place I've never ...</td>\n",
       "    </tr>\n",
       "    <tr>\n",
       "      <th>3</th>\n",
       "      <td>Still Cold.txt</td>\n",
       "      <td>You really had a million hearts to break All t...</td>\n",
       "      <td>You really had a million hearts to break\\nAll ...</td>\n",
       "    </tr>\n",
       "    <tr>\n",
       "      <th>4</th>\n",
       "      <td>Quiet, The Winter Harbor.txt</td>\n",
       "      <td>Well you're still walking Around the block You...</td>\n",
       "      <td>Well you're still walking\\nAround the block\\nY...</td>\n",
       "    </tr>\n",
       "  </tbody>\n",
       "</table>\n",
       "</div>"
      ],
      "text/plain": [
       "                       Filename  \\\n",
       "0       Flowers In December.txt   \n",
       "1                 Roseblood.txt   \n",
       "2               I'm Sailing.txt   \n",
       "3                Still Cold.txt   \n",
       "4  Quiet, The Winter Harbor.txt   \n",
       "\n",
       "                                                Text  \\\n",
       "0  Before I let you down again I just want to see...   \n",
       "1  Everyday you can see Changes in her hair and s...   \n",
       "2  I'm sailing, sailing (To a) place I've never s...   \n",
       "3  You really had a million hearts to break All t...   \n",
       "4  Well you're still walking Around the block You...   \n",
       "\n",
       "                                            Document  \n",
       "0  Before I let you down again\\nI just want to se...  \n",
       "1  Everyday you can see\\nChanges in her hair and ...  \n",
       "2  I'm sailin', sailin'\\n(To a) place I've never ...  \n",
       "3  You really had a million hearts to break\\nAll ...  \n",
       "4  Well you're still walking\\nAround the block\\nY...  "
      ]
     },
     "execution_count": 1005,
     "metadata": {},
     "output_type": "execute_result"
    }
   ],
   "source": [
    "\n",
    "lyric_df_copy = lyric_df.copy()\n",
    "# Define a regular expression pattern to match consonant letters followed by 'in'\n",
    "pattern= r'([obcdfghjklmqnprstvwxyz])in\\''\n",
    "\n",
    "\n",
    "\n",
    "# Use str.replace() with the regular expression to replace the pattern with 'ing'\n",
    "lyric_df_copy['Filename'] = lyric_df_copy['Filename'].str.replace(pattern, r'\\1ing', regex=True)\n",
    "lyric_df_copy['Text'] = lyric_df_copy['Text'].str.replace(pattern, r'\\1ing', regex=True)\n",
    "\n",
    "# Print the DataFrame after replacements\n",
    "lyric_df_copy.head()\n"
   ]
  },
  {
   "cell_type": "markdown",
   "metadata": {},
   "source": [
    "Then,remove all the marks that are mistakes."
   ]
  },
  {
   "cell_type": "code",
   "execution_count": 1006,
   "metadata": {},
   "outputs": [],
   "source": [
    "\n",
    "\n",
    "lyric_df_copy['Text'] = lyric_df_copy['Text'].str.replace(r'\\(|\\)', '', regex=True)\n",
    "lyric_df_copy['Text'] = lyric_df_copy['Text'].str.replace(',', ' ', regex=True)\n",
    "lyric_df_copy['Text'] = lyric_df_copy['Text'].str.replace('\\.\\.\\.', ' ', regex=True)\n",
    "lyric_df_copy['Text'] = lyric_df_copy['Text'].str.replace('\\?', ' ', regex=True)\n",
    "lyric_df_copy['Text'] = lyric_df_copy['Text'].str.replace('�', ' ', regex=True)\n",
    "lyric_df_copy['Text'] = lyric_df_copy['Text'].str.replace('\"', ' ', regex=True)\n",
    "lyric_df_copy['Text'] = lyric_df_copy['Text'].str.replace('.', ' ', regex=True)\n",
    "\n",
    "\n",
    "\n"
   ]
  },
  {
   "cell_type": "markdown",
   "metadata": {},
   "source": [
    "check typo again by using Spellchecker"
   ]
  },
  {
   "cell_type": "code",
   "execution_count": 1007,
   "metadata": {},
   "outputs": [
    {
     "data": {
      "text/html": [
       "<div>\n",
       "<style scoped>\n",
       "    .dataframe tbody tr th:only-of-type {\n",
       "        vertical-align: middle;\n",
       "    }\n",
       "\n",
       "    .dataframe tbody tr th {\n",
       "        vertical-align: top;\n",
       "    }\n",
       "\n",
       "    .dataframe thead th {\n",
       "        text-align: right;\n",
       "    }\n",
       "</style>\n",
       "<table border=\"1\" class=\"dataframe\">\n",
       "  <thead>\n",
       "    <tr style=\"text-align: right;\">\n",
       "      <th></th>\n",
       "      <th>Filename</th>\n",
       "      <th>Text</th>\n",
       "      <th>Typos</th>\n",
       "    </tr>\n",
       "  </thead>\n",
       "  <tbody>\n",
       "    <tr>\n",
       "      <th>0</th>\n",
       "      <td>Flowers In December.txt</td>\n",
       "      <td>Before I let you down again I just want to see...</td>\n",
       "      <td>[december, i've]</td>\n",
       "    </tr>\n",
       "    <tr>\n",
       "      <th>1</th>\n",
       "      <td>Roseblood.txt</td>\n",
       "      <td>Everyday you can see Changes in her hair and s...</td>\n",
       "      <td>[ok]</td>\n",
       "    </tr>\n",
       "    <tr>\n",
       "      <th>2</th>\n",
       "      <td>I'm Sailing.txt</td>\n",
       "      <td>I'm sailing  sailing To a place I've never see...</td>\n",
       "      <td>[orleans, sam, i'm, i've]</td>\n",
       "    </tr>\n",
       "    <tr>\n",
       "      <th>3</th>\n",
       "      <td>Still Cold.txt</td>\n",
       "      <td>You really had a million hearts to break All t...</td>\n",
       "      <td>[]</td>\n",
       "    </tr>\n",
       "    <tr>\n",
       "      <th>4</th>\n",
       "      <td>Quiet, The Winter Harbor.txt</td>\n",
       "      <td>Well you're still walking Around the block You...</td>\n",
       "      <td>[i'd, i'm]</td>\n",
       "    </tr>\n",
       "    <tr>\n",
       "      <th>5</th>\n",
       "      <td>Five String Serenade.txt</td>\n",
       "      <td>This is my five string serenade Beneath the wa...</td>\n",
       "      <td>[i'm]</td>\n",
       "    </tr>\n",
       "    <tr>\n",
       "      <th>6</th>\n",
       "      <td>That Way Again.txt</td>\n",
       "      <td>He says that he tries to solve all his problem...</td>\n",
       "      <td>[i'm]</td>\n",
       "    </tr>\n",
       "    <tr>\n",
       "      <th>7</th>\n",
       "      <td>Flying Low.txt</td>\n",
       "      <td>Well  I'm flying low in London's past days It'...</td>\n",
       "      <td>[london's, i'm, parlour]</td>\n",
       "    </tr>\n",
       "    <tr>\n",
       "      <th>8</th>\n",
       "      <td>Lay Myself Down.txt</td>\n",
       "      <td>Just like that  she follows me My wings are un...</td>\n",
       "      <td>[i'll]</td>\n",
       "    </tr>\n",
       "    <tr>\n",
       "      <th>9</th>\n",
       "      <td>Fade Into You.txt</td>\n",
       "      <td>I want to hold the hand inside you I want to t...</td>\n",
       "      <td>[]</td>\n",
       "    </tr>\n",
       "    <tr>\n",
       "      <th>10</th>\n",
       "      <td>Blue Flower.txt</td>\n",
       "      <td>Waiting for a sign from you Waiting for a sign...</td>\n",
       "      <td>[i'm, high-heeled]</td>\n",
       "    </tr>\n",
       "    <tr>\n",
       "      <th>11</th>\n",
       "      <td>Unreflected.txt</td>\n",
       "      <td>Once it's life's fortunate Isn't this so The u...</td>\n",
       "      <td>[transfits]</td>\n",
       "    </tr>\n",
       "    <tr>\n",
       "      <th>12</th>\n",
       "      <td>I've Gotta Stop.txt</td>\n",
       "      <td>I've gotta stop Making you stay I've gotta kno...</td>\n",
       "      <td>[i'm, i've]</td>\n",
       "    </tr>\n",
       "    <tr>\n",
       "      <th>13</th>\n",
       "      <td>Spoon.txt</td>\n",
       "      <td>I ain't no spoon Ain't nobody gonna turn me ar...</td>\n",
       "      <td>[i'm]</td>\n",
       "    </tr>\n",
       "    <tr>\n",
       "      <th>14</th>\n",
       "      <td>Happy.txt</td>\n",
       "      <td>Field of light They hold me inside Count my st...</td>\n",
       "      <td>[else's]</td>\n",
       "    </tr>\n",
       "    <tr>\n",
       "      <th>15</th>\n",
       "      <td>California.txt</td>\n",
       "      <td>I think I'm going back to California Somewhere...</td>\n",
       "      <td>[i'll, i'm, california]</td>\n",
       "    </tr>\n",
       "    <tr>\n",
       "      <th>16</th>\n",
       "      <td>Bells Ring.txt</td>\n",
       "      <td>Bells ring into the night Like a mystery Sound...</td>\n",
       "      <td>[i'm]</td>\n",
       "    </tr>\n",
       "    <tr>\n",
       "      <th>17</th>\n",
       "      <td>I've Been Let Down.txt</td>\n",
       "      <td>I've been let down And I'm still coming round ...</td>\n",
       "      <td>[i'm, i've]</td>\n",
       "    </tr>\n",
       "    <tr>\n",
       "      <th>18</th>\n",
       "      <td>I'm Less Here.txt</td>\n",
       "      <td>Behind my life is different colours They go aw...</td>\n",
       "      <td>[colours]</td>\n",
       "    </tr>\n",
       "    <tr>\n",
       "      <th>19</th>\n",
       "      <td>Into Dust.txt</td>\n",
       "      <td>Still falling Breathless and on again Inside t...</td>\n",
       "      <td>[]</td>\n",
       "    </tr>\n",
       "    <tr>\n",
       "      <th>20</th>\n",
       "      <td>Mary Of Silence.txt</td>\n",
       "      <td>Oh Mary of silence You pick my heart with a sm...</td>\n",
       "      <td>[mary]</td>\n",
       "    </tr>\n",
       "    <tr>\n",
       "      <th>21</th>\n",
       "      <td>Give You My Loving.txt</td>\n",
       "      <td>Give you my loving Seven days a week I'll be y...</td>\n",
       "      <td>[i'm, i'll]</td>\n",
       "    </tr>\n",
       "    <tr>\n",
       "      <th>22</th>\n",
       "      <td>Cry, Cry.txt</td>\n",
       "      <td>Cry  cry for you Just like you knew I wouldn't...</td>\n",
       "      <td>[]</td>\n",
       "    </tr>\n",
       "    <tr>\n",
       "      <th>23</th>\n",
       "      <td>Taste Of Blood.txt</td>\n",
       "      <td>Red oh red The taste of blood On lips of wine ...</td>\n",
       "      <td>[]</td>\n",
       "    </tr>\n",
       "    <tr>\n",
       "      <th>24</th>\n",
       "      <td>Halah.txt</td>\n",
       "      <td>Well I think I see another side Maybe just ano...</td>\n",
       "      <td>[else's, i'm]</td>\n",
       "    </tr>\n",
       "    <tr>\n",
       "      <th>25</th>\n",
       "      <td>So Tonight That I Might See.txt</td>\n",
       "      <td>Come up crash with the muses Fells dust into a...</td>\n",
       "      <td>[i'll]</td>\n",
       "    </tr>\n",
       "    <tr>\n",
       "      <th>26</th>\n",
       "      <td>Does Someone Have Your Baby Now.txt</td>\n",
       "      <td>Does someone have your baby now Does someone f...</td>\n",
       "      <td>[i'll]</td>\n",
       "    </tr>\n",
       "    <tr>\n",
       "      <th>27</th>\n",
       "      <td>Rhymes Of An Hour.txt</td>\n",
       "      <td>Cannot hear what you're saying Could I tell yo...</td>\n",
       "      <td>[i'm]</td>\n",
       "    </tr>\n",
       "    <tr>\n",
       "      <th>28</th>\n",
       "      <td>Free.txt</td>\n",
       "      <td>I fell asleep in the silence Before the street...</td>\n",
       "      <td>[i'm, i'll]</td>\n",
       "    </tr>\n",
       "    <tr>\n",
       "      <th>29</th>\n",
       "      <td>Common Burn.txt</td>\n",
       "      <td>Simple things like your over coat and your bea...</td>\n",
       "      <td>[]</td>\n",
       "    </tr>\n",
       "    <tr>\n",
       "      <th>30</th>\n",
       "      <td>She Hangs Brightly.txt</td>\n",
       "      <td>She hangs brightly from the tree Wonders what ...</td>\n",
       "      <td>[i'm]</td>\n",
       "    </tr>\n",
       "    <tr>\n",
       "      <th>31</th>\n",
       "      <td>Seasons Of Your Day.txt</td>\n",
       "      <td>Won't you let me come inside  I've released al...</td>\n",
       "      <td>[i've]</td>\n",
       "    </tr>\n",
       "    <tr>\n",
       "      <th>32</th>\n",
       "      <td>Sparrow.txt</td>\n",
       "      <td>You used to say don't give me things Look at m...</td>\n",
       "      <td>[i'm, i've, i'll]</td>\n",
       "    </tr>\n",
       "    <tr>\n",
       "      <th>33</th>\n",
       "      <td>She's My Baby.txt</td>\n",
       "      <td>She's my baby She belongs to me Yesterday she ...</td>\n",
       "      <td>[i'm]</td>\n",
       "    </tr>\n",
       "    <tr>\n",
       "      <th>34</th>\n",
       "      <td>Take Everything.txt</td>\n",
       "      <td>I can't believe your thinking Save everyone  i...</td>\n",
       "      <td>[]</td>\n",
       "    </tr>\n",
       "    <tr>\n",
       "      <th>35</th>\n",
       "      <td>I’m Gonna Bake My Biscuit.txt</td>\n",
       "      <td>I've got a brand new skillet and a brand new l...</td>\n",
       "      <td>[i'm, i've, christmas]</td>\n",
       "    </tr>\n",
       "    <tr>\n",
       "      <th>36</th>\n",
       "      <td>Look On Down From The Bridge.txt</td>\n",
       "      <td>Look on down from the bridge There's still fou...</td>\n",
       "      <td>[i'm, i'll]</td>\n",
       "    </tr>\n",
       "    <tr>\n",
       "      <th>37</th>\n",
       "      <td>Hair and Skin.txt</td>\n",
       "      <td>Your hair and your eyes I saw them in the nigh...</td>\n",
       "      <td>[]</td>\n",
       "    </tr>\n",
       "    <tr>\n",
       "      <th>38</th>\n",
       "      <td>All Your Sisters.txt</td>\n",
       "      <td>And I knew I was close to you And I will Catch...</td>\n",
       "      <td>[i'm]</td>\n",
       "    </tr>\n",
       "    <tr>\n",
       "      <th>39</th>\n",
       "      <td>Blue Light.txt</td>\n",
       "      <td>There's a blue light In my best friend's room ...</td>\n",
       "      <td>[]</td>\n",
       "    </tr>\n",
       "    <tr>\n",
       "      <th>40</th>\n",
       "      <td>Be My Angel.txt</td>\n",
       "      <td>They say it's me that makes you do things you ...</td>\n",
       "      <td>[]</td>\n",
       "    </tr>\n",
       "    <tr>\n",
       "      <th>41</th>\n",
       "      <td>Before I Sleep.txt</td>\n",
       "      <td>If it's The truth That's all I know I look for...</td>\n",
       "      <td>[i'll]</td>\n",
       "    </tr>\n",
       "    <tr>\n",
       "      <th>42</th>\n",
       "      <td>Under My Car.txt</td>\n",
       "      <td>Saw you laying under my car  but you took it t...</td>\n",
       "      <td>[i'm, i've]</td>\n",
       "    </tr>\n",
       "    <tr>\n",
       "      <th>43</th>\n",
       "      <td>In The Kingdom.txt</td>\n",
       "      <td>I took that train into the city You know the o...</td>\n",
       "      <td>[]</td>\n",
       "    </tr>\n",
       "    <tr>\n",
       "      <th>44</th>\n",
       "      <td>Disappear.txt</td>\n",
       "      <td>Just because You call my name I cannot hear It...</td>\n",
       "      <td>[i'll]</td>\n",
       "    </tr>\n",
       "    <tr>\n",
       "      <th>45</th>\n",
       "      <td>Ghost Highway.txt</td>\n",
       "      <td>You're a ghost on the highway And I'll love yo...</td>\n",
       "      <td>[i'll]</td>\n",
       "    </tr>\n",
       "    <tr>\n",
       "      <th>46</th>\n",
       "      <td>Ride It On.txt</td>\n",
       "      <td>Ride it on baby Into my view Ride it on baby I...</td>\n",
       "      <td>[i'm]</td>\n",
       "    </tr>\n",
       "    <tr>\n",
       "      <th>47</th>\n",
       "      <td>Still.txt</td>\n",
       "      <td>I thought of you all of the time  love And the...</td>\n",
       "      <td>[]</td>\n",
       "    </tr>\n",
       "    <tr>\n",
       "      <th>48</th>\n",
       "      <td>Tell Your Honey.txt</td>\n",
       "      <td>Tell your honey Living all alone I guess i'll ...</td>\n",
       "      <td>[i'm, i've, i'll]</td>\n",
       "    </tr>\n",
       "    <tr>\n",
       "      <th>49</th>\n",
       "      <td>Wasted.txt</td>\n",
       "      <td>After I stuck my hands Into your ground And pu...</td>\n",
       "      <td>[else's, i'd]</td>\n",
       "    </tr>\n",
       "    <tr>\n",
       "      <th>50</th>\n",
       "      <td>Things.txt</td>\n",
       "      <td>so that's what you need Picking up all the thi...</td>\n",
       "      <td>[]</td>\n",
       "    </tr>\n",
       "    <tr>\n",
       "      <th>51</th>\n",
       "      <td>Umbilical.txt</td>\n",
       "      <td>She should have seen the thing in mother's bel...</td>\n",
       "      <td>[]</td>\n",
       "    </tr>\n",
       "  </tbody>\n",
       "</table>\n",
       "</div>"
      ],
      "text/plain": [
       "                               Filename  \\\n",
       "0               Flowers In December.txt   \n",
       "1                         Roseblood.txt   \n",
       "2                       I'm Sailing.txt   \n",
       "3                        Still Cold.txt   \n",
       "4          Quiet, The Winter Harbor.txt   \n",
       "5              Five String Serenade.txt   \n",
       "6                    That Way Again.txt   \n",
       "7                        Flying Low.txt   \n",
       "8                   Lay Myself Down.txt   \n",
       "9                     Fade Into You.txt   \n",
       "10                      Blue Flower.txt   \n",
       "11                      Unreflected.txt   \n",
       "12                  I've Gotta Stop.txt   \n",
       "13                            Spoon.txt   \n",
       "14                            Happy.txt   \n",
       "15                       California.txt   \n",
       "16                       Bells Ring.txt   \n",
       "17               I've Been Let Down.txt   \n",
       "18                    I'm Less Here.txt   \n",
       "19                        Into Dust.txt   \n",
       "20                  Mary Of Silence.txt   \n",
       "21               Give You My Loving.txt   \n",
       "22                         Cry, Cry.txt   \n",
       "23                   Taste Of Blood.txt   \n",
       "24                            Halah.txt   \n",
       "25      So Tonight That I Might See.txt   \n",
       "26  Does Someone Have Your Baby Now.txt   \n",
       "27                Rhymes Of An Hour.txt   \n",
       "28                             Free.txt   \n",
       "29                      Common Burn.txt   \n",
       "30               She Hangs Brightly.txt   \n",
       "31              Seasons Of Your Day.txt   \n",
       "32                          Sparrow.txt   \n",
       "33                    She's My Baby.txt   \n",
       "34                  Take Everything.txt   \n",
       "35        I’m Gonna Bake My Biscuit.txt   \n",
       "36     Look On Down From The Bridge.txt   \n",
       "37                    Hair and Skin.txt   \n",
       "38                 All Your Sisters.txt   \n",
       "39                       Blue Light.txt   \n",
       "40                      Be My Angel.txt   \n",
       "41                   Before I Sleep.txt   \n",
       "42                     Under My Car.txt   \n",
       "43                   In The Kingdom.txt   \n",
       "44                        Disappear.txt   \n",
       "45                    Ghost Highway.txt   \n",
       "46                       Ride It On.txt   \n",
       "47                            Still.txt   \n",
       "48                  Tell Your Honey.txt   \n",
       "49                           Wasted.txt   \n",
       "50                           Things.txt   \n",
       "51                        Umbilical.txt   \n",
       "\n",
       "                                                 Text  \\\n",
       "0   Before I let you down again I just want to see...   \n",
       "1   Everyday you can see Changes in her hair and s...   \n",
       "2   I'm sailing  sailing To a place I've never see...   \n",
       "3   You really had a million hearts to break All t...   \n",
       "4   Well you're still walking Around the block You...   \n",
       "5   This is my five string serenade Beneath the wa...   \n",
       "6   He says that he tries to solve all his problem...   \n",
       "7   Well  I'm flying low in London's past days It'...   \n",
       "8   Just like that  she follows me My wings are un...   \n",
       "9   I want to hold the hand inside you I want to t...   \n",
       "10  Waiting for a sign from you Waiting for a sign...   \n",
       "11  Once it's life's fortunate Isn't this so The u...   \n",
       "12  I've gotta stop Making you stay I've gotta kno...   \n",
       "13  I ain't no spoon Ain't nobody gonna turn me ar...   \n",
       "14  Field of light They hold me inside Count my st...   \n",
       "15  I think I'm going back to California Somewhere...   \n",
       "16  Bells ring into the night Like a mystery Sound...   \n",
       "17  I've been let down And I'm still coming round ...   \n",
       "18  Behind my life is different colours They go aw...   \n",
       "19  Still falling Breathless and on again Inside t...   \n",
       "20  Oh Mary of silence You pick my heart with a sm...   \n",
       "21  Give you my loving Seven days a week I'll be y...   \n",
       "22  Cry  cry for you Just like you knew I wouldn't...   \n",
       "23  Red oh red The taste of blood On lips of wine ...   \n",
       "24  Well I think I see another side Maybe just ano...   \n",
       "25  Come up crash with the muses Fells dust into a...   \n",
       "26  Does someone have your baby now Does someone f...   \n",
       "27  Cannot hear what you're saying Could I tell yo...   \n",
       "28  I fell asleep in the silence Before the street...   \n",
       "29  Simple things like your over coat and your bea...   \n",
       "30  She hangs brightly from the tree Wonders what ...   \n",
       "31  Won't you let me come inside  I've released al...   \n",
       "32  You used to say don't give me things Look at m...   \n",
       "33  She's my baby She belongs to me Yesterday she ...   \n",
       "34  I can't believe your thinking Save everyone  i...   \n",
       "35  I've got a brand new skillet and a brand new l...   \n",
       "36  Look on down from the bridge There's still fou...   \n",
       "37  Your hair and your eyes I saw them in the nigh...   \n",
       "38  And I knew I was close to you And I will Catch...   \n",
       "39  There's a blue light In my best friend's room ...   \n",
       "40  They say it's me that makes you do things you ...   \n",
       "41  If it's The truth That's all I know I look for...   \n",
       "42  Saw you laying under my car  but you took it t...   \n",
       "43  I took that train into the city You know the o...   \n",
       "44  Just because You call my name I cannot hear It...   \n",
       "45  You're a ghost on the highway And I'll love yo...   \n",
       "46  Ride it on baby Into my view Ride it on baby I...   \n",
       "47  I thought of you all of the time  love And the...   \n",
       "48  Tell your honey Living all alone I guess i'll ...   \n",
       "49  After I stuck my hands Into your ground And pu...   \n",
       "50  so that's what you need Picking up all the thi...   \n",
       "51  She should have seen the thing in mother's bel...   \n",
       "\n",
       "                        Typos  \n",
       "0            [december, i've]  \n",
       "1                        [ok]  \n",
       "2   [orleans, sam, i'm, i've]  \n",
       "3                          []  \n",
       "4                  [i'd, i'm]  \n",
       "5                       [i'm]  \n",
       "6                       [i'm]  \n",
       "7    [london's, i'm, parlour]  \n",
       "8                      [i'll]  \n",
       "9                          []  \n",
       "10         [i'm, high-heeled]  \n",
       "11                [transfits]  \n",
       "12                [i'm, i've]  \n",
       "13                      [i'm]  \n",
       "14                   [else's]  \n",
       "15    [i'll, i'm, california]  \n",
       "16                      [i'm]  \n",
       "17                [i'm, i've]  \n",
       "18                  [colours]  \n",
       "19                         []  \n",
       "20                     [mary]  \n",
       "21                [i'm, i'll]  \n",
       "22                         []  \n",
       "23                         []  \n",
       "24              [else's, i'm]  \n",
       "25                     [i'll]  \n",
       "26                     [i'll]  \n",
       "27                      [i'm]  \n",
       "28                [i'm, i'll]  \n",
       "29                         []  \n",
       "30                      [i'm]  \n",
       "31                     [i've]  \n",
       "32          [i'm, i've, i'll]  \n",
       "33                      [i'm]  \n",
       "34                         []  \n",
       "35     [i'm, i've, christmas]  \n",
       "36                [i'm, i'll]  \n",
       "37                         []  \n",
       "38                      [i'm]  \n",
       "39                         []  \n",
       "40                         []  \n",
       "41                     [i'll]  \n",
       "42                [i'm, i've]  \n",
       "43                         []  \n",
       "44                     [i'll]  \n",
       "45                     [i'll]  \n",
       "46                      [i'm]  \n",
       "47                         []  \n",
       "48          [i'm, i've, i'll]  \n",
       "49              [else's, i'd]  \n",
       "50                         []  \n",
       "51                         []  "
      ]
     },
     "execution_count": 1007,
     "metadata": {},
     "output_type": "execute_result"
    }
   ],
   "source": [
    "spell = SpellChecker()\n",
    "\n",
    "def find_typos(text):\n",
    "    misspelled_words = spell.unknown(text.split())\n",
    "    return list(misspelled_words)\n",
    "\n",
    "\n",
    "lyric_df_copy['Typos'] = lyric_df_copy['Text'].apply(find_typos)\n",
    "\n",
    "lyric_df_copy[['Filename','Text', 'Typos']]"
   ]
  },
  {
   "cell_type": "markdown",
   "metadata": {},
   "source": [
    "It seems alrigh. Then replacing the texts with errors by the corrected texts."
   ]
  },
  {
   "cell_type": "code",
   "execution_count": 1008,
   "metadata": {},
   "outputs": [
    {
     "data": {
      "text/html": [
       "<div>\n",
       "<style scoped>\n",
       "    .dataframe tbody tr th:only-of-type {\n",
       "        vertical-align: middle;\n",
       "    }\n",
       "\n",
       "    .dataframe tbody tr th {\n",
       "        vertical-align: top;\n",
       "    }\n",
       "\n",
       "    .dataframe thead th {\n",
       "        text-align: right;\n",
       "    }\n",
       "</style>\n",
       "<table border=\"1\" class=\"dataframe\">\n",
       "  <thead>\n",
       "    <tr style=\"text-align: right;\">\n",
       "      <th></th>\n",
       "      <th>Filename</th>\n",
       "      <th>Text</th>\n",
       "      <th>Document</th>\n",
       "    </tr>\n",
       "  </thead>\n",
       "  <tbody>\n",
       "    <tr>\n",
       "      <th>0</th>\n",
       "      <td>Flowers In December.txt</td>\n",
       "      <td>Before I let you down again I just want to see...</td>\n",
       "      <td>Before I let you down again\\nI just want to se...</td>\n",
       "    </tr>\n",
       "    <tr>\n",
       "      <th>1</th>\n",
       "      <td>Roseblood.txt</td>\n",
       "      <td>Everyday you can see Changes in her hair and s...</td>\n",
       "      <td>Everyday you can see\\nChanges in her hair and ...</td>\n",
       "    </tr>\n",
       "    <tr>\n",
       "      <th>2</th>\n",
       "      <td>I'm Sailin'.txt</td>\n",
       "      <td>I'm sailing  sailing To a place I've never see...</td>\n",
       "      <td>I'm sailin', sailin'\\n(To a) place I've never ...</td>\n",
       "    </tr>\n",
       "    <tr>\n",
       "      <th>3</th>\n",
       "      <td>Still Cold.txt</td>\n",
       "      <td>You really had a million hearts to break All t...</td>\n",
       "      <td>You really had a million hearts to break\\nAll ...</td>\n",
       "    </tr>\n",
       "    <tr>\n",
       "      <th>4</th>\n",
       "      <td>Quiet, The Winter Harbor.txt</td>\n",
       "      <td>Well you're still walking Around the block You...</td>\n",
       "      <td>Well you're still walking\\nAround the block\\nY...</td>\n",
       "    </tr>\n",
       "  </tbody>\n",
       "</table>\n",
       "</div>"
      ],
      "text/plain": [
       "                       Filename  \\\n",
       "0       Flowers In December.txt   \n",
       "1                 Roseblood.txt   \n",
       "2               I'm Sailin'.txt   \n",
       "3                Still Cold.txt   \n",
       "4  Quiet, The Winter Harbor.txt   \n",
       "\n",
       "                                                Text  \\\n",
       "0  Before I let you down again I just want to see...   \n",
       "1  Everyday you can see Changes in her hair and s...   \n",
       "2  I'm sailing  sailing To a place I've never see...   \n",
       "3  You really had a million hearts to break All t...   \n",
       "4  Well you're still walking Around the block You...   \n",
       "\n",
       "                                            Document  \n",
       "0  Before I let you down again\\nI just want to se...  \n",
       "1  Everyday you can see\\nChanges in her hair and ...  \n",
       "2  I'm sailin', sailin'\\n(To a) place I've never ...  \n",
       "3  You really had a million hearts to break\\nAll ...  \n",
       "4  Well you're still walking\\nAround the block\\nY...  "
      ]
     },
     "execution_count": 1008,
     "metadata": {},
     "output_type": "execute_result"
    }
   ],
   "source": [
    "lyric_df['Text']=lyric_df_copy['Text']\n",
    "lyric_df.head()"
   ]
  },
  {
   "cell_type": "markdown",
   "metadata": {},
   "source": [
    "Reading metadata CSV file"
   ]
  },
  {
   "cell_type": "code",
   "execution_count": 1009,
   "metadata": {
    "colab": {
     "base_uri": "https://localhost:8080/",
     "height": 206
    },
    "executionInfo": {
     "elapsed": 211,
     "status": "ok",
     "timestamp": 1703545664603,
     "user": {
      "displayName": "Cassie Lu",
      "userId": "03362316879493319105"
     },
     "user_tz": -60
    },
    "id": "wN6gdTZuh4SE",
    "outputId": "1d5a228a-8132-4e5c-a089-120cb7863727"
   },
   "outputs": [
    {
     "data": {
      "text/html": [
       "<div>\n",
       "<style scoped>\n",
       "    .dataframe tbody tr th:only-of-type {\n",
       "        vertical-align: middle;\n",
       "    }\n",
       "\n",
       "    .dataframe tbody tr th {\n",
       "        vertical-align: top;\n",
       "    }\n",
       "\n",
       "    .dataframe thead th {\n",
       "        text-align: right;\n",
       "    }\n",
       "</style>\n",
       "<table border=\"1\" class=\"dataframe\">\n",
       "  <thead>\n",
       "    <tr style=\"text-align: right;\">\n",
       "      <th></th>\n",
       "      <th>TITLE</th>\n",
       "      <th>ALBUM</th>\n",
       "      <th>YEAR</th>\n",
       "      <th>TYPE</th>\n",
       "    </tr>\n",
       "  </thead>\n",
       "  <tbody>\n",
       "    <tr>\n",
       "      <th>0</th>\n",
       "      <td>Be My Angel</td>\n",
       "      <td>She Hangs Brightly</td>\n",
       "      <td>1990</td>\n",
       "      <td>ALBUM</td>\n",
       "    </tr>\n",
       "    <tr>\n",
       "      <th>1</th>\n",
       "      <td>Before I Sleep</td>\n",
       "      <td>She Hangs Brightly</td>\n",
       "      <td>1990</td>\n",
       "      <td>ALBUM</td>\n",
       "    </tr>\n",
       "    <tr>\n",
       "      <th>2</th>\n",
       "      <td>Blue Flower</td>\n",
       "      <td>She Hangs Brightly</td>\n",
       "      <td>1990</td>\n",
       "      <td>ALBUM</td>\n",
       "    </tr>\n",
       "    <tr>\n",
       "      <th>3</th>\n",
       "      <td>Free</td>\n",
       "      <td>She Hangs Brightly</td>\n",
       "      <td>1990</td>\n",
       "      <td>ALBUM</td>\n",
       "    </tr>\n",
       "    <tr>\n",
       "      <th>4</th>\n",
       "      <td>Ghost Highway</td>\n",
       "      <td>She Hangs Brightly</td>\n",
       "      <td>1990</td>\n",
       "      <td>ALBUM</td>\n",
       "    </tr>\n",
       "  </tbody>\n",
       "</table>\n",
       "</div>"
      ],
      "text/plain": [
       "            TITLE               ALBUM  YEAR   TYPE\n",
       "0     Be My Angel  She Hangs Brightly  1990  ALBUM\n",
       "1  Before I Sleep  She Hangs Brightly  1990  ALBUM\n",
       "2     Blue Flower  She Hangs Brightly  1990  ALBUM\n",
       "3            Free  She Hangs Brightly  1990  ALBUM\n",
       "4   Ghost Highway  She Hangs Brightly  1990  ALBUM"
      ]
     },
     "execution_count": 1009,
     "metadata": {},
     "output_type": "execute_result"
    }
   ],
   "source": [
    "# Load metadata.\n",
    "metadata_df = pd.read_csv('metadata.csv')\n",
    "metadata_df.head()\n"
   ]
  },
  {
   "cell_type": "code",
   "execution_count": 1010,
   "metadata": {
    "executionInfo": {
     "elapsed": 236,
     "status": "ok",
     "timestamp": 1703545668151,
     "user": {
      "displayName": "Cassie Lu",
      "userId": "03362316879493319105"
     },
     "user_tz": -60
    },
    "id": "7spBgl_ayOjV"
   },
   "outputs": [],
   "source": [
    "# Remove .txt from title of each paper\n",
    "lyric_df['Filename'] = lyric_df['Filename'].str.replace('.txt', '', regex=True)\n",
    "\n",
    "# Rename column from paper ID to Title\n",
    "metadata_df.rename(columns={\"TITLE\": \"Filename\"}, inplace=True)"
   ]
  },
  {
   "cell_type": "code",
   "execution_count": 1011,
   "metadata": {
    "executionInfo": {
     "elapsed": 259,
     "status": "ok",
     "timestamp": 1703545670000,
     "user": {
      "displayName": "Cassie Lu",
      "userId": "03362316879493319105"
     },
     "user_tz": -60
    },
    "id": "GOP8un-MzVhr"
   },
   "outputs": [],
   "source": [
    "# Merge metadata and papers into new DataFrame\n",
    "# Will only keep rows where both essay and metadata are present\n",
    "final_lyric_df = metadata_df.merge(lyric_df,on='Filename')\n",
    "final_lyric_df = final_lyric_df.rename(columns={'Filename': 'TITLE'})"
   ]
  },
  {
   "cell_type": "markdown",
   "metadata": {
    "id": "KPNDiwywzdex"
   },
   "source": [
    "Let's check the head of the DataFrame again to confirm everything has worked well. Check the first five rows to make sure each has a title, album, year, type and text (the full lyric)"
   ]
  },
  {
   "cell_type": "code",
   "execution_count": 1012,
   "metadata": {
    "colab": {
     "base_uri": "https://localhost:8080/",
     "height": 206
    },
    "executionInfo": {
     "elapsed": 200,
     "status": "ok",
     "timestamp": 1703545746594,
     "user": {
      "displayName": "Cassie Lu",
      "userId": "03362316879493319105"
     },
     "user_tz": -60
    },
    "id": "GfOEExrGzf4j",
    "outputId": "74b849e9-b571-4273-da42-f8066dd09fa2"
   },
   "outputs": [
    {
     "data": {
      "text/html": [
       "<div>\n",
       "<style scoped>\n",
       "    .dataframe tbody tr th:only-of-type {\n",
       "        vertical-align: middle;\n",
       "    }\n",
       "\n",
       "    .dataframe tbody tr th {\n",
       "        vertical-align: top;\n",
       "    }\n",
       "\n",
       "    .dataframe thead th {\n",
       "        text-align: right;\n",
       "    }\n",
       "</style>\n",
       "<table border=\"1\" class=\"dataframe\">\n",
       "  <thead>\n",
       "    <tr style=\"text-align: right;\">\n",
       "      <th></th>\n",
       "      <th>TITLE</th>\n",
       "      <th>ALBUM</th>\n",
       "      <th>YEAR</th>\n",
       "      <th>TYPE</th>\n",
       "      <th>Text</th>\n",
       "      <th>Document</th>\n",
       "    </tr>\n",
       "  </thead>\n",
       "  <tbody>\n",
       "    <tr>\n",
       "      <th>0</th>\n",
       "      <td>Be My Angel</td>\n",
       "      <td>She Hangs Brightly</td>\n",
       "      <td>1990</td>\n",
       "      <td>ALBUM</td>\n",
       "      <td>They say it's me that makes you do things you ...</td>\n",
       "      <td>They say it's me\\nthat makes you do things\\nyo...</td>\n",
       "    </tr>\n",
       "    <tr>\n",
       "      <th>1</th>\n",
       "      <td>Before I Sleep</td>\n",
       "      <td>She Hangs Brightly</td>\n",
       "      <td>1990</td>\n",
       "      <td>ALBUM</td>\n",
       "      <td>If it's The truth That's all I know I look for...</td>\n",
       "      <td>If it's\\nThe truth\\nThat's all I know\\nI look ...</td>\n",
       "    </tr>\n",
       "    <tr>\n",
       "      <th>2</th>\n",
       "      <td>Blue Flower</td>\n",
       "      <td>She Hangs Brightly</td>\n",
       "      <td>1990</td>\n",
       "      <td>ALBUM</td>\n",
       "      <td>Waiting for a sign from you Waiting for a sign...</td>\n",
       "      <td>Waitin' for a sign from you\\nWaitin' for a sig...</td>\n",
       "    </tr>\n",
       "    <tr>\n",
       "      <th>3</th>\n",
       "      <td>Free</td>\n",
       "      <td>She Hangs Brightly</td>\n",
       "      <td>1990</td>\n",
       "      <td>ALBUM</td>\n",
       "      <td>I fell asleep in the silence Before the street...</td>\n",
       "      <td>I fell asleep in the silence\\nBefore the stree...</td>\n",
       "    </tr>\n",
       "    <tr>\n",
       "      <th>4</th>\n",
       "      <td>Ghost Highway</td>\n",
       "      <td>She Hangs Brightly</td>\n",
       "      <td>1990</td>\n",
       "      <td>ALBUM</td>\n",
       "      <td>You're a ghost on the highway And I'll love yo...</td>\n",
       "      <td>You're a ghost on the highway\\nAnd I'll love y...</td>\n",
       "    </tr>\n",
       "  </tbody>\n",
       "</table>\n",
       "</div>"
      ],
      "text/plain": [
       "            TITLE               ALBUM  YEAR   TYPE  \\\n",
       "0     Be My Angel  She Hangs Brightly  1990  ALBUM   \n",
       "1  Before I Sleep  She Hangs Brightly  1990  ALBUM   \n",
       "2     Blue Flower  She Hangs Brightly  1990  ALBUM   \n",
       "3            Free  She Hangs Brightly  1990  ALBUM   \n",
       "4   Ghost Highway  She Hangs Brightly  1990  ALBUM   \n",
       "\n",
       "                                                Text  \\\n",
       "0  They say it's me that makes you do things you ...   \n",
       "1  If it's The truth That's all I know I look for...   \n",
       "2  Waiting for a sign from you Waiting for a sign...   \n",
       "3  I fell asleep in the silence Before the street...   \n",
       "4  You're a ghost on the highway And I'll love yo...   \n",
       "\n",
       "                                            Document  \n",
       "0  They say it's me\\nthat makes you do things\\nyo...  \n",
       "1  If it's\\nThe truth\\nThat's all I know\\nI look ...  \n",
       "2  Waitin' for a sign from you\\nWaitin' for a sig...  \n",
       "3  I fell asleep in the silence\\nBefore the stree...  \n",
       "4  You're a ghost on the highway\\nAnd I'll love y...  "
      ]
     },
     "execution_count": 1012,
     "metadata": {},
     "output_type": "execute_result"
    }
   ],
   "source": [
    "# Print DataFrame\n",
    "final_lyric_df.head()\n"
   ]
  },
  {
   "cell_type": "markdown",
   "metadata": {
    "id": "whOguC5609qH"
   },
   "source": [
    "The resulting DataFrame is now ready for analysis.\n"
   ]
  },
  {
   "cell_type": "markdown",
   "metadata": {
    "id": "r44k00fL1GM4"
   },
   "source": [
    "## Text Enrichment with spaCy"
   ]
  },
  {
   "cell_type": "markdown",
   "metadata": {
    "id": "b3aMka221I4s"
   },
   "source": [
    "### Creating Doc Objects"
   ]
  },
  {
   "cell_type": "markdown",
   "metadata": {
    "id": "SnrgdoQu1LV9"
   },
   "source": [
    "To use spaCy, the first step is to load one of spaCy’s Trained Models and Pipelines which will be used to perform tokenization, part-of-speech tagging, and other text enrichment tasks. A wide range of options are available (see the full list here), and they vary based on size and language.\n",
    "\n",
    "We’ll use en_core_web_sm, which has been trained on written web texts. It may not perform as accurately as the those trained on medium and large English language models, but it will deliver results most efficiently. Once we’ve loaded en_core_web_sm, we can check what actions it performs; parser, tagger, lemmatizer, and NER, should be among those listed."
   ]
  },
  {
   "cell_type": "code",
   "execution_count": 1013,
   "metadata": {
    "colab": {
     "base_uri": "https://localhost:8080/"
    },
    "executionInfo": {
     "elapsed": 1035,
     "status": "ok",
     "timestamp": 1703545844927,
     "user": {
      "displayName": "Cassie Lu",
      "userId": "03362316879493319105"
     },
     "user_tz": -60
    },
    "id": "RBaqnONh1StS",
    "outputId": "cc6a837e-80f7-490f-9811-36f54bb1088e"
   },
   "outputs": [
    {
     "name": "stdout",
     "output_type": "stream",
     "text": [
      "['tok2vec', 'tagger', 'parser', 'attribute_ruler', 'lemmatizer', 'ner']\n"
     ]
    }
   ],
   "source": [
    "# Load nlp pipeline\n",
    "nlp = spacy.load('en_core_web_sm')\n",
    "\n",
    "# Check what functions it performs\n",
    "print(nlp.pipe_names)"
   ]
  },
  {
   "cell_type": "code",
   "execution_count": 1014,
   "metadata": {
    "executionInfo": {
     "elapsed": 282,
     "status": "ok",
     "timestamp": 1703545848922,
     "user": {
      "displayName": "Cassie Lu",
      "userId": "03362316879493319105"
     },
     "user_tz": -60
    },
    "id": "J6ipHJbs1m1e"
   },
   "outputs": [],
   "source": [
    "#Define example sentence\n",
    "sentence = \"This is 'an' example? sentence\"\n",
    "\n",
    "# Call the nlp model on the sentence\n",
    "doc = nlp(sentence)"
   ]
  },
  {
   "cell_type": "markdown",
   "metadata": {
    "id": "T2mV36F61q8Y"
   },
   "source": [
    "Next we can call on the Doc object to get the information we’re interested in. The command below loops through each token in a Doc object and prints each word in the text along with its corresponding part-of-speech:"
   ]
  },
  {
   "cell_type": "code",
   "execution_count": 1015,
   "metadata": {
    "colab": {
     "base_uri": "https://localhost:8080/"
    },
    "executionInfo": {
     "elapsed": 287,
     "status": "ok",
     "timestamp": 1703546085167,
     "user": {
      "displayName": "Cassie Lu",
      "userId": "03362316879493319105"
     },
     "user_tz": -60
    },
    "id": "0wF9JymT1rgO",
    "outputId": "9d82f98e-50e4-4a61-81a2-b2908bca20d9"
   },
   "outputs": [
    {
     "name": "stdout",
     "output_type": "stream",
     "text": [
      "This PRON\n",
      "is AUX\n",
      "' PUNCT\n",
      "an DET\n",
      "' PUNCT\n",
      "example NOUN\n",
      "? PUNCT\n",
      "sentence NOUN\n"
     ]
    }
   ],
   "source": [
    "# Loop through each token in doc object\n",
    "for token in doc:\n",
    "    # Print text and part of speech for each\n",
    "    print(token.text, token.pos_)"
   ]
  },
  {
   "cell_type": "markdown",
   "metadata": {
    "id": "YVcFkL0T1tdn"
   },
   "source": [
    "Let’s try the same process on the lyrics . As we’ll be calling the NLP function on every text in the DataFrame, we should first define a function that runs nlp on whatever input text is given. Functions are a useful way to store operations that will be run multiple times, reducing duplications and improving code readability."
   ]
  },
  {
   "cell_type": "code",
   "execution_count": 1016,
   "metadata": {
    "executionInfo": {
     "elapsed": 308,
     "status": "ok",
     "timestamp": 1703546087562,
     "user": {
      "displayName": "Cassie Lu",
      "userId": "03362316879493319105"
     },
     "user_tz": -60
    },
    "id": "hEqtNkpB1yYb"
   },
   "outputs": [],
   "source": [
    "# Define a function that runs the nlp pipeline on any given input text\n",
    "def process_text(text):\n",
    "    return nlp(text)"
   ]
  },
  {
   "cell_type": "markdown",
   "metadata": {
    "id": "gVRX8sVQ108e"
   },
   "source": [
    "After the function is defined, use .apply() to apply it to every cell in a given DataFrame column. In this case, nlp will run on each cell in the Text column of the final_lyric_df DataFrame, creating a Doc object from every lyric text. These Doc objects will be stored in a new column of the DataFrame called Doc.\n",
    "\n",
    "Running this function takes several minutes because spaCy is performing all the parsing and tagging tasks on each text. However, when it is complete, we can simply call on the resulting Doc objects to get parts-of-speech, named entities, and other information of interest, just as in the example of the sentence above."
   ]
  },
  {
   "cell_type": "code",
   "execution_count": 1017,
   "metadata": {
    "executionInfo": {
     "elapsed": 1626,
     "status": "ok",
     "timestamp": 1703546090649,
     "user": {
      "displayName": "Cassie Lu",
      "userId": "03362316879493319105"
     },
     "user_tz": -60
    },
    "id": "3RLD3JmW131t"
   },
   "outputs": [],
   "source": [
    "# Apply the function to the \"Text\" column, so that the nlp pipeline is called on each student lyric\n",
    "final_lyric_df['Doc'] = final_lyric_df['Text'].apply(process_text)"
   ]
  },
  {
   "cell_type": "markdown",
   "metadata": {
    "id": "dDYoB1oi2Poj"
   },
   "source": [
    "## Text Reduction"
   ]
  },
  {
   "cell_type": "markdown",
   "metadata": {
    "id": "yWCtOwC52Q9U"
   },
   "source": [
    "### Tokenization"
   ]
  },
  {
   "cell_type": "markdown",
   "metadata": {
    "id": "ho0VYO3Q2TsX"
   },
   "source": [
    "A critical first step spaCy performs is tokenization, or the segmentation of strings into individual words and punctuation markers. Tokenization enables spaCy to parse the grammatical structures of a text and identify characteristics of each word-like part-of-speech.\n",
    "\n",
    "To retrieve a tokenized version of each text in the DataFrame, we’ll write a function that iterates through any given Doc object and returns all functions found within it."
   ]
  },
  {
   "cell_type": "code",
   "execution_count": 1018,
   "metadata": {
    "executionInfo": {
     "elapsed": 201,
     "status": "ok",
     "timestamp": 1703546092416,
     "user": {
      "displayName": "Cassie Lu",
      "userId": "03362316879493319105"
     },
     "user_tz": -60
    },
    "id": "PO_S__H-2YF0"
   },
   "outputs": [],
   "source": [
    "# Define a function to retrieve tokens from a doc object\n",
    "def get_token(doc):\n",
    "    return [(token.text) for token in doc]"
   ]
  },
  {
   "cell_type": "markdown",
   "metadata": {
    "id": "hSEb_sCk2av-"
   },
   "source": [
    "As with the function used to create Doc objects, the token function can be applied to the DataFrame. In this case, we will call the function on the Doc column, since this is the column which stores the results from the processing done by spaCy."
   ]
  },
  {
   "cell_type": "code",
   "execution_count": 1019,
   "metadata": {
    "colab": {
     "base_uri": "https://localhost:8080/",
     "height": 206
    },
    "executionInfo": {
     "elapsed": 335,
     "status": "ok",
     "timestamp": 1703546094554,
     "user": {
      "displayName": "Cassie Lu",
      "userId": "03362316879493319105"
     },
     "user_tz": -60
    },
    "id": "kRyAZgDg2bU2",
    "outputId": "257f55c6-a3c9-41f6-91e8-9a39609c77a9"
   },
   "outputs": [
    {
     "data": {
      "text/html": [
       "<div>\n",
       "<style scoped>\n",
       "    .dataframe tbody tr th:only-of-type {\n",
       "        vertical-align: middle;\n",
       "    }\n",
       "\n",
       "    .dataframe tbody tr th {\n",
       "        vertical-align: top;\n",
       "    }\n",
       "\n",
       "    .dataframe thead th {\n",
       "        text-align: right;\n",
       "    }\n",
       "</style>\n",
       "<table border=\"1\" class=\"dataframe\">\n",
       "  <thead>\n",
       "    <tr style=\"text-align: right;\">\n",
       "      <th></th>\n",
       "      <th>TITLE</th>\n",
       "      <th>ALBUM</th>\n",
       "      <th>YEAR</th>\n",
       "      <th>TYPE</th>\n",
       "      <th>Text</th>\n",
       "      <th>Document</th>\n",
       "      <th>Doc</th>\n",
       "      <th>Tokens</th>\n",
       "    </tr>\n",
       "  </thead>\n",
       "  <tbody>\n",
       "    <tr>\n",
       "      <th>0</th>\n",
       "      <td>Be My Angel</td>\n",
       "      <td>She Hangs Brightly</td>\n",
       "      <td>1990</td>\n",
       "      <td>ALBUM</td>\n",
       "      <td>They say it's me that makes you do things you ...</td>\n",
       "      <td>They say it's me\\nthat makes you do things\\nyo...</td>\n",
       "      <td>(They, say, it, 's, me, that, makes, you, do, ...</td>\n",
       "      <td>[They, say, it, 's, me, that, makes, you, do, ...</td>\n",
       "    </tr>\n",
       "    <tr>\n",
       "      <th>1</th>\n",
       "      <td>Before I Sleep</td>\n",
       "      <td>She Hangs Brightly</td>\n",
       "      <td>1990</td>\n",
       "      <td>ALBUM</td>\n",
       "      <td>If it's The truth That's all I know I look for...</td>\n",
       "      <td>If it's\\nThe truth\\nThat's all I know\\nI look ...</td>\n",
       "      <td>(If, it, 's, The, truth, That, 's, all, I, kno...</td>\n",
       "      <td>[If, it, 's, The, truth, That, 's, all, I, kno...</td>\n",
       "    </tr>\n",
       "    <tr>\n",
       "      <th>2</th>\n",
       "      <td>Blue Flower</td>\n",
       "      <td>She Hangs Brightly</td>\n",
       "      <td>1990</td>\n",
       "      <td>ALBUM</td>\n",
       "      <td>Waiting for a sign from you Waiting for a sign...</td>\n",
       "      <td>Waitin' for a sign from you\\nWaitin' for a sig...</td>\n",
       "      <td>(Waiting, for, a, sign, from, you, Waiting, fo...</td>\n",
       "      <td>[Waiting, for, a, sign, from, you, Waiting, fo...</td>\n",
       "    </tr>\n",
       "    <tr>\n",
       "      <th>3</th>\n",
       "      <td>Free</td>\n",
       "      <td>She Hangs Brightly</td>\n",
       "      <td>1990</td>\n",
       "      <td>ALBUM</td>\n",
       "      <td>I fell asleep in the silence Before the street...</td>\n",
       "      <td>I fell asleep in the silence\\nBefore the stree...</td>\n",
       "      <td>(I, fell, asleep, in, the, silence, Before, th...</td>\n",
       "      <td>[I, fell, asleep, in, the, silence, Before, th...</td>\n",
       "    </tr>\n",
       "    <tr>\n",
       "      <th>4</th>\n",
       "      <td>Ghost Highway</td>\n",
       "      <td>She Hangs Brightly</td>\n",
       "      <td>1990</td>\n",
       "      <td>ALBUM</td>\n",
       "      <td>You're a ghost on the highway And I'll love yo...</td>\n",
       "      <td>You're a ghost on the highway\\nAnd I'll love y...</td>\n",
       "      <td>(You, 're, a, ghost, on, the, highway, And, I,...</td>\n",
       "      <td>[You, 're, a, ghost, on, the, highway, And, I,...</td>\n",
       "    </tr>\n",
       "  </tbody>\n",
       "</table>\n",
       "</div>"
      ],
      "text/plain": [
       "            TITLE               ALBUM  YEAR   TYPE  \\\n",
       "0     Be My Angel  She Hangs Brightly  1990  ALBUM   \n",
       "1  Before I Sleep  She Hangs Brightly  1990  ALBUM   \n",
       "2     Blue Flower  She Hangs Brightly  1990  ALBUM   \n",
       "3            Free  She Hangs Brightly  1990  ALBUM   \n",
       "4   Ghost Highway  She Hangs Brightly  1990  ALBUM   \n",
       "\n",
       "                                                Text  \\\n",
       "0  They say it's me that makes you do things you ...   \n",
       "1  If it's The truth That's all I know I look for...   \n",
       "2  Waiting for a sign from you Waiting for a sign...   \n",
       "3  I fell asleep in the silence Before the street...   \n",
       "4  You're a ghost on the highway And I'll love yo...   \n",
       "\n",
       "                                            Document  \\\n",
       "0  They say it's me\\nthat makes you do things\\nyo...   \n",
       "1  If it's\\nThe truth\\nThat's all I know\\nI look ...   \n",
       "2  Waitin' for a sign from you\\nWaitin' for a sig...   \n",
       "3  I fell asleep in the silence\\nBefore the stree...   \n",
       "4  You're a ghost on the highway\\nAnd I'll love y...   \n",
       "\n",
       "                                                 Doc  \\\n",
       "0  (They, say, it, 's, me, that, makes, you, do, ...   \n",
       "1  (If, it, 's, The, truth, That, 's, all, I, kno...   \n",
       "2  (Waiting, for, a, sign, from, you, Waiting, fo...   \n",
       "3  (I, fell, asleep, in, the, silence, Before, th...   \n",
       "4  (You, 're, a, ghost, on, the, highway, And, I,...   \n",
       "\n",
       "                                              Tokens  \n",
       "0  [They, say, it, 's, me, that, makes, you, do, ...  \n",
       "1  [If, it, 's, The, truth, That, 's, all, I, kno...  \n",
       "2  [Waiting, for, a, sign, from, you, Waiting, fo...  \n",
       "3  [I, fell, asleep, in, the, silence, Before, th...  \n",
       "4  [You, 're, a, ghost, on, the, highway, And, I,...  "
      ]
     },
     "execution_count": 1019,
     "metadata": {},
     "output_type": "execute_result"
    }
   ],
   "source": [
    "# Run the token retrieval function on the doc objects in the dataframe\n",
    "final_lyric_df['Tokens'] = final_lyric_df['Doc'].apply(get_token)\n",
    "final_lyric_df.head()"
   ]
  },
  {
   "cell_type": "markdown",
   "metadata": {
    "id": "UHnZW0i_2nY9"
   },
   "source": [
    "If we compare the Text and Tokens column, we find a couple of differences. In the table below, you’ll notice that most importantly, the words, spaces, and punctuation markers in the Tokens column are separated by commas, indicating that each have been parsed as individual tokens. The text in the Tokens column is also bracketed; this indicates that tokens have been generated as a list."
   ]
  },
  {
   "cell_type": "code",
   "execution_count": 1020,
   "metadata": {
    "colab": {
     "base_uri": "https://localhost:8080/",
     "height": 206
    },
    "executionInfo": {
     "elapsed": 218,
     "status": "ok",
     "timestamp": 1703546107656,
     "user": {
      "displayName": "Cassie Lu",
      "userId": "03362316879493319105"
     },
     "user_tz": -60
    },
    "id": "A3ZFeuTc2oDi",
    "outputId": "eb82e1f0-af76-402f-f026-725b0d5499a4"
   },
   "outputs": [
    {
     "data": {
      "text/html": [
       "<div>\n",
       "<style scoped>\n",
       "    .dataframe tbody tr th:only-of-type {\n",
       "        vertical-align: middle;\n",
       "    }\n",
       "\n",
       "    .dataframe tbody tr th {\n",
       "        vertical-align: top;\n",
       "    }\n",
       "\n",
       "    .dataframe thead th {\n",
       "        text-align: right;\n",
       "    }\n",
       "</style>\n",
       "<table border=\"1\" class=\"dataframe\">\n",
       "  <thead>\n",
       "    <tr style=\"text-align: right;\">\n",
       "      <th></th>\n",
       "      <th>Text</th>\n",
       "      <th>Tokens</th>\n",
       "    </tr>\n",
       "  </thead>\n",
       "  <tbody>\n",
       "    <tr>\n",
       "      <th>0</th>\n",
       "      <td>They say it's me that makes you do things you ...</td>\n",
       "      <td>[They, say, it, 's, me, that, makes, you, do, ...</td>\n",
       "    </tr>\n",
       "    <tr>\n",
       "      <th>1</th>\n",
       "      <td>If it's The truth That's all I know I look for...</td>\n",
       "      <td>[If, it, 's, The, truth, That, 's, all, I, kno...</td>\n",
       "    </tr>\n",
       "    <tr>\n",
       "      <th>2</th>\n",
       "      <td>Waiting for a sign from you Waiting for a sign...</td>\n",
       "      <td>[Waiting, for, a, sign, from, you, Waiting, fo...</td>\n",
       "    </tr>\n",
       "    <tr>\n",
       "      <th>3</th>\n",
       "      <td>I fell asleep in the silence Before the street...</td>\n",
       "      <td>[I, fell, asleep, in, the, silence, Before, th...</td>\n",
       "    </tr>\n",
       "    <tr>\n",
       "      <th>4</th>\n",
       "      <td>You're a ghost on the highway And I'll love yo...</td>\n",
       "      <td>[You, 're, a, ghost, on, the, highway, And, I,...</td>\n",
       "    </tr>\n",
       "  </tbody>\n",
       "</table>\n",
       "</div>"
      ],
      "text/plain": [
       "                                                Text  \\\n",
       "0  They say it's me that makes you do things you ...   \n",
       "1  If it's The truth That's all I know I look for...   \n",
       "2  Waiting for a sign from you Waiting for a sign...   \n",
       "3  I fell asleep in the silence Before the street...   \n",
       "4  You're a ghost on the highway And I'll love yo...   \n",
       "\n",
       "                                              Tokens  \n",
       "0  [They, say, it, 's, me, that, makes, you, do, ...  \n",
       "1  [If, it, 's, The, truth, That, 's, all, I, kno...  \n",
       "2  [Waiting, for, a, sign, from, you, Waiting, fo...  \n",
       "3  [I, fell, asleep, in, the, silence, Before, th...  \n",
       "4  [You, 're, a, ghost, on, the, highway, And, I,...  "
      ]
     },
     "execution_count": 1020,
     "metadata": {},
     "output_type": "execute_result"
    }
   ],
   "source": [
    "tokens = final_lyric_df[['Text', 'Tokens']].copy()\n",
    "tokens.head()\n",
    "\n"
   ]
  },
  {
   "cell_type": "markdown",
   "metadata": {
    "id": "XzAi6eEg2z7h"
   },
   "source": [
    "### Lemmatization"
   ]
  },
  {
   "cell_type": "markdown",
   "metadata": {
    "id": "WLKKAPrc21DU"
   },
   "source": [
    "Another process performed by spaCy is lemmatization, or the retrieval of the dictionary root word of each word (for example “brighten” for “brightening”). We’ll perform a similar set of steps to those above to create a function to call the lemmas from the Doc object, then apply it to the DataFrame."
   ]
  },
  {
   "cell_type": "code",
   "execution_count": 1021,
   "metadata": {
    "executionInfo": {
     "elapsed": 292,
     "status": "ok",
     "timestamp": 1703546114099,
     "user": {
      "displayName": "Cassie Lu",
      "userId": "03362316879493319105"
     },
     "user_tz": -60
    },
    "id": "ftFe9MYt229w"
   },
   "outputs": [],
   "source": [
    "# Define a function to retrieve lemmas from a doc object\n",
    "def get_lemma(doc):\n",
    "    return [(token.lemma_) for token in doc]\n",
    "\n",
    "# Run the lemma retrieval function on the doc objects in the dataframe\n",
    "final_lyric_df['Lemmas'] = final_lyric_df['Doc'].apply(get_lemma)"
   ]
  },
  {
   "cell_type": "markdown",
   "metadata": {
    "id": "geB4uG-q2_E2"
   },
   "source": [
    "Lemmatization can help reduce noise and refine results for researchers who are conducting keyword searches. For example, let’s compare counts of the word “she” in the original Tokens column and in the lemmatized Lemmas column."
   ]
  },
  {
   "cell_type": "code",
   "execution_count": 1022,
   "metadata": {
    "colab": {
     "base_uri": "https://localhost:8080/"
    },
    "executionInfo": {
     "elapsed": 4,
     "status": "ok",
     "timestamp": 1703546116535,
     "user": {
      "displayName": "Cassie Lu",
      "userId": "03362316879493319105"
     },
     "user_tz": -60
    },
    "id": "ZR4YkADd2_w6",
    "outputId": "6b52cdb2-7807-45d7-f0db-a3ad81a128d3"
   },
   "outputs": [
    {
     "name": "stdout",
     "output_type": "stream",
     "text": [
      "\"she\" appears in the text tokens column 19 times.\n",
      "\"she\" appears in the lemmas column 50 times.\n"
     ]
    }
   ],
   "source": [
    "print(f'\"she\" appears in the text tokens column ' + str(final_lyric_df['Tokens'].apply(lambda x: x.count('she')).sum()) + ' times.')\n",
    "print(f'\"she\" appears in the lemmas column ' + str(final_lyric_df['Lemmas'].apply(lambda x: x.count('she')).sum()) + ' times.')"
   ]
  },
  {
   "cell_type": "markdown",
   "metadata": {
    "id": "9I-Gr4yH3pB4"
   },
   "source": [
    "As expected, there are more instances of “she” in the Lemmas column, as the lemmatization process has grouped inflected word forms (her,hers) into the base word “she.”"
   ]
  },
  {
   "cell_type": "markdown",
   "metadata": {
    "id": "DUc6l1j533DB"
   },
   "source": [
    "## Text Annotation"
   ]
  },
  {
   "cell_type": "markdown",
   "metadata": {
    "id": "tmTvlTRR3_sF"
   },
   "source": [
    "### Part of Speech Tagging"
   ]
  },
  {
   "cell_type": "markdown",
   "metadata": {
    "id": "PnS1LZhg4Cep"
   },
   "source": [
    "spaCy facilitates two levels of part-of-speech tagging: coarse-grained tagging, which predicts the simple universal part-of-speech of each token in a text (such as noun, verb, adjective, adverb), and detailed tagging, which uses a larger, more fine-grained set of part-of-speech tags (for example 3rd person singular present verb). The part-of-speech tags used are determined by the English language model we use. In this case, we’re using the small English model, and you can explore the differences between the models on spaCy’s website.\n",
    "\n",
    "We can call the part-of-speech tags in the same way as the lemmas. Create a function to extract them from any given Doc object and apply the function to each Doc object in the DataFrame. The function we’ll create will extract both the coarse- and fine-grained part-of-speech for each token (token.pos_ and token.tag_, respectively)."
   ]
  },
  {
   "cell_type": "code",
   "execution_count": 1023,
   "metadata": {
    "executionInfo": {
     "elapsed": 209,
     "status": "ok",
     "timestamp": 1703546143474,
     "user": {
      "displayName": "Cassie Lu",
      "userId": "03362316879493319105"
     },
     "user_tz": -60
    },
    "id": "zJTOzzj14Jo2"
   },
   "outputs": [],
   "source": [
    "# Define a function to retrieve lemmas from a doc object\n",
    "def get_pos(doc):\n",
    "    #Return the coarse- and fine-grained part of speech text for each token in the doc\n",
    "    return [(token.pos_, token.tag_) for token in doc]\n",
    "\n",
    "# Define a function to retrieve parts of speech from a doc object\n",
    "final_lyric_df['POS'] = final_lyric_df['Doc'].apply(get_pos)\n"
   ]
  },
  {
   "cell_type": "markdown",
   "metadata": {
    "id": "G7e8GvGQ4Rtc"
   },
   "source": [
    "We can create a list of the part-of-speech columns to review them further. The first (coarse-grained) tag corresponds to a generally recognizable part-of-speech such as a noun, adjective, or punctuation mark, while the second (fine-grained) category are a bit more difficult to decipher."
   ]
  },
  {
   "cell_type": "code",
   "execution_count": 1024,
   "metadata": {
    "colab": {
     "base_uri": "https://localhost:8080/"
    },
    "executionInfo": {
     "elapsed": 701,
     "status": "ok",
     "timestamp": 1703546146157,
     "user": {
      "displayName": "Cassie Lu",
      "userId": "03362316879493319105"
     },
     "user_tz": -60
    },
    "id": "VIxb4KZ14Sfj",
    "outputId": "3b964741-2944-4556-f44f-45d3837a28f6"
   },
   "outputs": [
    {
     "data": {
      "text/plain": [
       "0     [(PRON, PRP), (VERB, VBP), (PRON, PRP), (AUX, ...\n",
       "1     [(SCONJ, IN), (PRON, PRP), (AUX, VBZ), (DET, D...\n",
       "2     [(VERB, VBG), (ADP, IN), (DET, DT), (NOUN, NN)...\n",
       "3     [(PRON, PRP), (VERB, VBD), (ADJ, JJ), (ADP, IN...\n",
       "4     [(PRON, PRP), (AUX, VBP), (DET, DT), (NOUN, NN...\n",
       "5     [(INTJ, UH), (PRON, PRP), (VERB, VBP), (PRON, ...\n",
       "6     [(VERB, VB), (PRON, PRP), (ADP, IN), (NOUN, NN...\n",
       "7     [(PRON, PRP), (VERB, VBZ), (ADV, RB), (ADP, IN...\n",
       "8     [(ADJ, JJ), (INTJ, UH), (ADJ, JJ), (DET, DT), ...\n",
       "9     [(NOUN, NNS), (VERB, VBP), (ADP, IN), (DET, DT...\n",
       "10    [(PRON, EX), (VERB, VBZ), (DET, DT), (ADJ, JJ)...\n",
       "11    [(PRON, PRP), (VERB, VBP), (PART, TO), (VERB, ...\n",
       "12    [(PRON, DT), (AUX, VBZ), (PRON, PRP$), (NUM, C...\n",
       "13    [(ADV, RB), (VERB, VBG), (PROPN, NNP), (CCONJ,...\n",
       "14    [(INTJ, UH), (PROPN, NNP), (ADP, IN), (NOUN, N...\n",
       "15    [(PRON, PRP), (AUX, VBZ), (PRON, PRP$), (NOUN,...\n",
       "16    [(VERB, VB), (ADP, RP), (NOUN, NN), (ADP, IN),...\n",
       "17    [(VERB, VBD), (PRON, PRP), (VERB, VBG), (ADP, ...\n",
       "18    [(SCONJ, IN), (PRON, PRP), (AUX, VBZ), (NOUN, ...\n",
       "19    [(SCONJ, IN), (PRON, PRP), (VERB, VBD), (PRON,...\n",
       "20    [(PRON, PRP), (AUX, VBP), (VERB, VBN), (DET, D...\n",
       "21    [(CCONJ, CC), (PRON, PRP), (VERB, VBD), (PRON,...\n",
       "22    [(PROPN, NNP), (SPACE, _SP), (VERB, VB), (ADP,...\n",
       "23    [(ADV, RB), (SCONJ, IN), (PRON, PRP), (VERB, V...\n",
       "24    [(SCONJ, IN), (PRON, PRP), (VERB, VBP), (PRON,...\n",
       "25    [(PRON, PRP$), (NOUN, NN), (CCONJ, CC), (PRON,...\n",
       "26    [(NOUN, NN), (ADP, IN), (NOUN, NN), (PRON, PRP...\n",
       "27    [(PRON, PRP), (AUX, VBP), (AUX, VBN), (VERB, V...\n",
       "28    [(VERB, VB), (ADP, RP), (ADP, RP), (ADP, IN), ...\n",
       "29    [(AUX, MD), (PART, RB), (VERB, VB), (PRON, WP)...\n",
       "30    [(ADV, RB), (PRON, PRP), (AUX, MD), (VERB, VB)...\n",
       "31    [(PRON, PRP), (ADV, RB), (VERB, VBD), (DET, DT...\n",
       "32    [(PRON, PRP), (AUX, MD), (PART, RB), (VERB, VB...\n",
       "33    [(VERB, VB), (PRON, PRP$), (NOUN, NN), (VERB, ...\n",
       "34    [(PRON, PRP), (AUX, MD), (AUX, VB), (VERB, VBN...\n",
       "35    [(PRON, PRP), (VERB, VBP), (PRON, PRP), (AUX, ...\n",
       "36    [(ADJ, JJ), (NOUN, NNS), (ADP, IN), (PRON, PRP...\n",
       "37    [(AUX, VBZ), (PRON, NN), (VERB, VB), (PRON, PR...\n",
       "38    [(INTJ, UH), (SPACE, _SP), (PRON, PRP), (AUX, ...\n",
       "39    [(PRON, PRP), (VERB, VBD), (DET, DT), (NOUN, N...\n",
       "40    [(PRON, PRP), (AUX, VBP), (VERB, VBN), (PART, ...\n",
       "41    [(ADV, RB), (ADP, IN), (PRON, DT), (SPACE, _SP...\n",
       "42    [(AUX, MD), (PART, RB), (PRON, PRP), (VERB, VB...\n",
       "43    [(PRON, PRP), (VERB, VBD), (PART, TO), (VERB, ...\n",
       "44    [(PRON, PRP), (VERB, VBP), (PART, RB), (DET, D...\n",
       "45    [(ADP, IN), (PRON, PRP$), (NOUN, NN), (AUX, VB...\n",
       "46    [(ADV, RB), (PRON, DT), (AUX, VBZ), (PRON, WP)...\n",
       "47    [(INTJ, UH), (PRON, PRP), (AUX, VBP), (ADV, RB...\n",
       "48    [(PRON, PRP), (VERB, VBD), (ADP, IN), (PRON, P...\n",
       "49    [(PRON, PRP), (VERB, VBZ), (SCONJ, IN), (PRON,...\n",
       "Name: POS, dtype: object"
      ]
     },
     "execution_count": 1024,
     "metadata": {},
     "output_type": "execute_result"
    }
   ],
   "source": [
    "# Create a list of part of speech tags\n",
    "list(final_lyric_df['POS'])\n",
    "\n",
    "final_lyric_df['POS']\n"
   ]
  },
  {
   "cell_type": "markdown",
   "metadata": {
    "id": "35hB88Xu4ZuQ"
   },
   "source": [
    "Fortunately, spaCy has a built-in function called explain that can provide a short description of any tag of interest. If we try it on the tag IN using spacy.explain(\"IN\"), the output reads conjunction, subordinating or preposition."
   ]
  },
  {
   "cell_type": "code",
   "execution_count": 1025,
   "metadata": {
    "colab": {
     "base_uri": "https://localhost:8080/",
     "height": 35
    },
    "executionInfo": {
     "elapsed": 332,
     "status": "ok",
     "timestamp": 1703546148695,
     "user": {
      "displayName": "Cassie Lu",
      "userId": "03362316879493319105"
     },
     "user_tz": -60
    },
    "id": "WmUk3B7X4aUv",
    "outputId": "4f1fffd6-8b5a-4b95-b63d-97463e542512"
   },
   "outputs": [
    {
     "data": {
      "text/plain": [
       "'conjunction, subordinating or preposition'"
      ]
     },
     "execution_count": 1025,
     "metadata": {},
     "output_type": "execute_result"
    }
   ],
   "source": [
    "spacy.explain(\"IN\")"
   ]
  },
  {
   "cell_type": "markdown",
   "metadata": {
    "id": "oWaiU7xL4gYd"
   },
   "source": [
    "In some cases, you may want to get only a set of part-of-speech tags for further analysis, like all of the proper nouns. A function can be written to perform this task, extracting only words which have been fitted with the proper noun tag."
   ]
  },
  {
   "cell_type": "code",
   "execution_count": 1026,
   "metadata": {
    "executionInfo": {
     "elapsed": 399,
     "status": "ok",
     "timestamp": 1703546153072,
     "user": {
      "displayName": "Cassie Lu",
      "userId": "03362316879493319105"
     },
     "user_tz": -60
    },
    "id": "NI6nUeOp4hA7"
   },
   "outputs": [],
   "source": [
    "# Define function to extract proper nouns from Doc object\n",
    "def extract_proper_nouns(doc):\n",
    "    return [token.text for token in doc if token.pos_ == 'PROPN']\n",
    "\n",
    "# Apply function to Doc column and store resulting proper nouns in new column\n",
    "final_lyric_df['Proper_Nouns'] = final_lyric_df['Doc'].apply(extract_proper_nouns)"
   ]
  },
  {
   "cell_type": "markdown",
   "metadata": {
    "id": "AxpbUczX4opp"
   },
   "source": [
    "#### Listing the nouns in each text can help us ascertain the texts’ subjects. Let’s list the nouns in two different texts, the text located in row 5 of the DataFrame and the text located in row 40."
   ]
  },
  {
   "cell_type": "code",
   "execution_count": 1027,
   "metadata": {
    "colab": {
     "base_uri": "https://localhost:8080/"
    },
    "executionInfo": {
     "elapsed": 198,
     "status": "ok",
     "timestamp": 1703546156772,
     "user": {
      "displayName": "Cassie Lu",
      "userId": "03362316879493319105"
     },
     "user_tz": -60
    },
    "id": "ft53iAlo4pKd",
    "outputId": "c205476e-0763-4a7a-e530-8b2409a6de08"
   },
   "outputs": [
    {
     "data": {
      "text/plain": [
       "[['Baby', 'Baby', 'Baby', 'Baby'], ['God', 'Palm', 'Shore', 'God']]"
      ]
     },
     "execution_count": 1027,
     "metadata": {},
     "output_type": "execute_result"
    }
   ],
   "source": [
    "list(final_lyric_df.loc[[5, 40], 'Proper_Nouns'])\n",
    "\n"
   ]
  },
  {
   "cell_type": "markdown",
   "metadata": {
    "id": "biS_E9V-5Ov5"
   },
   "source": [
    "The first text in the list includes botany and astronomy concepts; this is likely to have been written for a biology course. In contrast, the second text appears to be an analysis of Shakespeare plays and movie adaptations, likely written for an English course."
   ]
  },
  {
   "cell_type": "markdown",
   "metadata": {
    "id": "dSw59fhr5VOi"
   },
   "source": [
    "### Named Entity Recognition"
   ]
  },
  {
   "cell_type": "markdown",
   "metadata": {
    "id": "GKe4hVxm5btX"
   },
   "source": [
    "spaCy can tag named entities in the text, such as names, dates, organizations, and locations. Call the full list of named entities and their descriptions using this code:"
   ]
  },
  {
   "cell_type": "code",
   "execution_count": 1028,
   "metadata": {
    "colab": {
     "base_uri": "https://localhost:8080/"
    },
    "executionInfo": {
     "elapsed": 219,
     "status": "ok",
     "timestamp": 1703546160607,
     "user": {
      "displayName": "Cassie Lu",
      "userId": "03362316879493319105"
     },
     "user_tz": -60
    },
    "id": "cRy_dD5v5YRt",
    "outputId": "e8aedc7c-abad-4509-8ec4-9d567dda81a6"
   },
   "outputs": [
    {
     "name": "stdout",
     "output_type": "stream",
     "text": [
      "CARDINAL : Numerals that do not fall under another type\n",
      "DATE : Absolute or relative dates or periods\n",
      "EVENT : Named hurricanes, battles, wars, sports events, etc.\n",
      "FAC : Buildings, airports, highways, bridges, etc.\n",
      "GPE : Countries, cities, states\n",
      "LANGUAGE : Any named language\n",
      "LAW : Named documents made into laws.\n",
      "LOC : Non-GPE locations, mountain ranges, bodies of water\n",
      "MONEY : Monetary values, including unit\n",
      "NORP : Nationalities or religious or political groups\n",
      "ORDINAL : \"first\", \"second\", etc.\n",
      "ORG : Companies, agencies, institutions, etc.\n",
      "PERCENT : Percentage, including \"%\"\n",
      "PERSON : People, including fictional\n",
      "PRODUCT : Objects, vehicles, foods, etc. (not services)\n",
      "QUANTITY : Measurements, as of weight or distance\n",
      "TIME : Times smaller than a day\n",
      "WORK_OF_ART : Titles of books, songs, etc.\n"
     ]
    }
   ],
   "source": [
    "# Get all NE labels and assign to variable\n",
    "labels = nlp.get_pipe(\"ner\").labels\n",
    "\n",
    "# Print each label and its description\n",
    "for label in labels:\n",
    "    print(label + ' : ' + spacy.explain(label))"
   ]
  },
  {
   "cell_type": "markdown",
   "metadata": {
    "id": "V_TAKF0T5hzo"
   },
   "source": [
    "We’ll create a function to extract the named entity tags from each Doc object and apply it to the Doc objects in the DataFrame, storing the named entities in a new column:"
   ]
  },
  {
   "cell_type": "code",
   "execution_count": 1029,
   "metadata": {
    "colab": {
     "base_uri": "https://localhost:8080/"
    },
    "executionInfo": {
     "elapsed": 220,
     "status": "ok",
     "timestamp": 1703546163558,
     "user": {
      "displayName": "Cassie Lu",
      "userId": "03362316879493319105"
     },
     "user_tz": -60
    },
    "id": "UGoNyzyp5jM4",
    "outputId": "2f176b66-421c-431f-ef51-a45766b2fd88"
   },
   "outputs": [
    {
     "data": {
      "text/plain": [
       "0                                          [TIME, DATE]\n",
       "1                                                    []\n",
       "2                      [TIME, ORG, LANGUAGE, TIME, ORG]\n",
       "3                                         [PERSON, ORG]\n",
       "4                                      [PERSON, PERSON]\n",
       "5                                                    []\n",
       "6                                                    []\n",
       "7                                              [PERSON]\n",
       "8                                                    []\n",
       "9                                                [TIME]\n",
       "10                                     [PERSON, PERSON]\n",
       "11                                                   []\n",
       "12                                 [CARDINAL, CARDINAL]\n",
       "13       [PERSON, CARDINAL, CARDINAL, PERSON, CARDINAL]\n",
       "14    [PERSON, PERSON, PERSON, ORDINAL, PERSON, PERS...\n",
       "15                       [DATE, DATE, DATE, DATE, DATE]\n",
       "16                    [ORG, TIME, PERSON, PERSON, DATE]\n",
       "17                                                   []\n",
       "18                               [DATE, PERSON, PERSON]\n",
       "19                                   [DATE, DATE, DATE]\n",
       "20     [PERSON, PERSON, PERSON, PERSON, PERSON, PERSON]\n",
       "21                                             [PERSON]\n",
       "22                                         [NORP, NORP]\n",
       "23                                                   []\n",
       "24                                     [DATE, CARDINAL]\n",
       "25                                                   []\n",
       "26                       [PERSON, PERSON, PRODUCT, ORG]\n",
       "27                                   [PERSON, QUANTITY]\n",
       "28                                                   []\n",
       "29                                         [DATE, TIME]\n",
       "30                                               [DATE]\n",
       "31                                           [CARDINAL]\n",
       "32                                   [ORG, WORK_OF_ART]\n",
       "33                                                [GPE]\n",
       "34                                  [PERSON, DATE, ORG]\n",
       "35                              [GPE, PERSON, GPE, GPE]\n",
       "36                                                [ORG]\n",
       "37                                                   []\n",
       "38                                 [GPE, ORDINAL, DATE]\n",
       "39                                               [TIME]\n",
       "40                                                   []\n",
       "41                                           [CARDINAL]\n",
       "42                                                   []\n",
       "43                                 [CARDINAL, CARDINAL]\n",
       "44                                                   []\n",
       "45                                     [PERSON, PERSON]\n",
       "46                                                   []\n",
       "47                                             [PERSON]\n",
       "48                                                   []\n",
       "49                                                [ORG]\n",
       "Name: Named_Entities, dtype: object"
      ]
     },
     "execution_count": 1029,
     "metadata": {},
     "output_type": "execute_result"
    }
   ],
   "source": [
    "# Define function to extract named entities from doc objects\n",
    "def extract_named_entities(doc):\n",
    "    return [ent.label_ for ent in doc.ents]\n",
    "\n",
    "# Apply function to Doc column and store resulting named entities in new column\n",
    "final_lyric_df['Named_Entities'] = final_lyric_df['Doc'].apply(extract_named_entities)\n",
    "final_lyric_df['Named_Entities']"
   ]
  },
  {
   "cell_type": "markdown",
   "metadata": {
    "id": "P6Gbo1c_5u4j"
   },
   "source": [
    "We can add another column with the words and phrases identified as named entities:"
   ]
  },
  {
   "cell_type": "code",
   "execution_count": 1030,
   "metadata": {
    "colab": {
     "base_uri": "https://localhost:8080/"
    },
    "executionInfo": {
     "elapsed": 286,
     "status": "ok",
     "timestamp": 1703546167299,
     "user": {
      "displayName": "Cassie Lu",
      "userId": "03362316879493319105"
     },
     "user_tz": -60
    },
    "id": "rMHrPDpt5vYN",
    "outputId": "5a4950b5-ebc0-4835-e4ba-0738607f7ebf"
   },
   "outputs": [
    {
     "data": {
      "text/plain": [
       "0                            [(the, night), (the, day)]\n",
       "1                                                    []\n",
       "2     [(morning), (Superstar), (Flower), (morning), ...\n",
       "3                                    [(Afraid), (Plea)]\n",
       "4                                    [(Ghost), (Ghost)]\n",
       "5                                                    []\n",
       "6                                                    []\n",
       "7                                              [(Sour)]\n",
       "8                                                    []\n",
       "9                                  [(the, night, Like)]\n",
       "10                        [(Shine, There, 's), (Miles)]\n",
       "11                                                   []\n",
       "12                                     [(five), (five)]\n",
       "13    [(Breathless), (two), (two), (Breathless), (two)]\n",
       "14    [(Mary, Come), (Mary), (Mary), (first), (Mary)...\n",
       "15    [(Yesterday), (today), (Yesterday), (another, ...\n",
       "16    [(Fells), (tonight), (Sunshine), (Sunshine), (...\n",
       "17                                                   []\n",
       "18                             [(Now), (Follow), (Don)]\n",
       "19                 [(All, day), (All, day), (All, day)]\n",
       "20                [(Ai), (Ai), (Ai), (Ai), (Boy), (Ai)]\n",
       "21                                            [(Catch)]\n",
       "22                                       [(Cry), (Cry)]\n",
       "23                                                   []\n",
       "24                                  [(December), (one)]\n",
       "25                                                   []\n",
       "26                  [(Cold), (Burns), (Sleep), (Ocean)]\n",
       "27                      [(Catch), (A, thousand, miles)]\n",
       "28                                                   []\n",
       "29                               [(winter), (an, hour)]\n",
       "30                                 [(a, million, days)]\n",
       "31                                       [(a, million)]\n",
       "32    [(Save), (Take, everything, Fake, everything, ...\n",
       "33                                           [(Shiver)]\n",
       "34                    [(Grew), (One, day), (Happiness)]\n",
       "35    [(California), (Clouds), (California), (Califo...\n",
       "36                                            [(Aware)]\n",
       "37                                                   []\n",
       "38                      [(London), (first), (one, day)]\n",
       "39                                          [(tonight)]\n",
       "40                                                   []\n",
       "41                                              [(one)]\n",
       "42                                                   []\n",
       "43                                       [(one), (two)]\n",
       "44                                                   []\n",
       "45                                     [(Keep), (Beat)]\n",
       "46                                                   []\n",
       "47                                           [(Simple)]\n",
       "48                                                   []\n",
       "49                                      [(Forgiveness)]\n",
       "Name: NE_Words, dtype: object"
      ]
     },
     "execution_count": 1030,
     "metadata": {},
     "output_type": "execute_result"
    }
   ],
   "source": [
    "# Define function to extract text tagged with named entities from doc objects\n",
    "def extract_named_entities(doc):\n",
    "    return [ent for ent in doc.ents]\n",
    "\n",
    "# Apply function to Doc column and store resulting text in new column\n",
    "final_lyric_df['NE_Words'] = final_lyric_df['Doc'].apply(extract_named_entities)\n",
    "final_lyric_df['NE_Words']\n"
   ]
  },
  {
   "cell_type": "markdown",
   "metadata": {
    "id": "-3IKN53f-YdI"
   },
   "source": [
    "Let’s visualize the words and their named entity tags in a single text. Call the first text’s Doc object and use displacy.render to visualize the text with the named entities highlighted and tagged:"
   ]
  },
  {
   "cell_type": "code",
   "execution_count": 1031,
   "metadata": {
    "colab": {
     "base_uri": "https://localhost:8080/",
     "height": 157
    },
    "executionInfo": {
     "elapsed": 513,
     "status": "ok",
     "timestamp": 1703546170230,
     "user": {
      "displayName": "Cassie Lu",
      "userId": "03362316879493319105"
     },
     "user_tz": -60
    },
    "id": "jOG6QSXR-Y-S",
    "outputId": "63f01276-dcbb-445c-ac79-7693a764167e"
   },
   "outputs": [
    {
     "name": "stderr",
     "output_type": "stream",
     "text": [
      "/Users/cassielu/anaconda3/lib/python3.11/site-packages/spacy/displacy/__init__.py:213: UserWarning: [W006] No entities to visualize found in Doc object. If this is surprising to you, make sure the Doc was processed using a model that supports named entity recognition, and check the `doc.ents` property manually if necessary.\n",
      "  warnings.warn(Warnings.W006)\n"
     ]
    },
    {
     "data": {
      "text/html": [
       "<span class=\"tex2jax_ignore\"><div class=\"entities\" style=\"line-height: 2.5; direction: ltr\">I've gotta stop Making you stay I've gotta know You'd never say Those words are meant Not to be thrown God hears you say You put me on But when you're weakened in my arms Shining You look so strange From someone's window You've got that ray Like Palm Shore ray But something's wrong I'm sure you know You seem to say You'll never go But when you're weary in my arms Shining I've gotta stop Making you stay I've gotta know You'll never say I've got that thought To pass the time God hears you say That would be fine But when I'm weary in your arms Shining</div></span>"
      ],
      "text/plain": [
       "<IPython.core.display.HTML object>"
      ]
     },
     "metadata": {},
     "output_type": "display_data"
    }
   ],
   "source": [
    "# Extract the first Doc object\n",
    "doc = final_lyric_df['Doc'][40]\n",
    "\n",
    "# Visualize named entity tagging in a single paper\n",
    "displacy.render(doc, style='ent', jupyter=True)"
   ]
  },
  {
   "cell_type": "markdown",
   "metadata": {},
   "source": [
    "# Download Enriched Dataset"
   ]
  },
  {
   "cell_type": "markdown",
   "metadata": {
    "id": "jgVLB8awVKQA"
   },
   "source": [
    "To save the dataset of doc objects, text reductions and linguistic annotations generated with spaCy, download the final_lyric_df DataFrame to your local computer as a .csv file:"
   ]
  },
  {
   "cell_type": "code",
   "execution_count": 1032,
   "metadata": {},
   "outputs": [
    {
     "data": {
      "text/html": [
       "<div>\n",
       "<style scoped>\n",
       "    .dataframe tbody tr th:only-of-type {\n",
       "        vertical-align: middle;\n",
       "    }\n",
       "\n",
       "    .dataframe tbody tr th {\n",
       "        vertical-align: top;\n",
       "    }\n",
       "\n",
       "    .dataframe thead th {\n",
       "        text-align: right;\n",
       "    }\n",
       "</style>\n",
       "<table border=\"1\" class=\"dataframe\">\n",
       "  <thead>\n",
       "    <tr style=\"text-align: right;\">\n",
       "      <th></th>\n",
       "      <th>TITLE</th>\n",
       "      <th>ALBUM</th>\n",
       "      <th>YEAR</th>\n",
       "      <th>TYPE</th>\n",
       "      <th>Text</th>\n",
       "      <th>Document</th>\n",
       "      <th>Doc</th>\n",
       "      <th>Tokens</th>\n",
       "      <th>Lemmas</th>\n",
       "      <th>POS</th>\n",
       "      <th>Proper_Nouns</th>\n",
       "      <th>Named_Entities</th>\n",
       "      <th>NE_Words</th>\n",
       "    </tr>\n",
       "  </thead>\n",
       "  <tbody>\n",
       "    <tr>\n",
       "      <th>0</th>\n",
       "      <td>Be My Angel</td>\n",
       "      <td>She Hangs Brightly</td>\n",
       "      <td>1990</td>\n",
       "      <td>ALBUM</td>\n",
       "      <td>They say it's me that makes you do things you ...</td>\n",
       "      <td>They say it's me\\nthat makes you do things\\nyo...</td>\n",
       "      <td>(They, say, it, 's, me, that, makes, you, do, ...</td>\n",
       "      <td>[They, say, it, 's, me, that, makes, you, do, ...</td>\n",
       "      <td>[they, say, it, be, I, that, make, you, do, th...</td>\n",
       "      <td>[(PRON, PRP), (VERB, VBP), (PRON, PRP), (AUX, ...</td>\n",
       "      <td>[]</td>\n",
       "      <td>[TIME, DATE]</td>\n",
       "      <td>[(the, night), (the, day)]</td>\n",
       "    </tr>\n",
       "    <tr>\n",
       "      <th>1</th>\n",
       "      <td>Before I Sleep</td>\n",
       "      <td>She Hangs Brightly</td>\n",
       "      <td>1990</td>\n",
       "      <td>ALBUM</td>\n",
       "      <td>If it's The truth That's all I know I look for...</td>\n",
       "      <td>If it's\\nThe truth\\nThat's all I know\\nI look ...</td>\n",
       "      <td>(If, it, 's, The, truth, That, 's, all, I, kno...</td>\n",
       "      <td>[If, it, 's, The, truth, That, 's, all, I, kno...</td>\n",
       "      <td>[if, it, be, the, truth, that, be, all, I, kno...</td>\n",
       "      <td>[(SCONJ, IN), (PRON, PRP), (AUX, VBZ), (DET, D...</td>\n",
       "      <td>[]</td>\n",
       "      <td>[]</td>\n",
       "      <td>[]</td>\n",
       "    </tr>\n",
       "    <tr>\n",
       "      <th>2</th>\n",
       "      <td>Blue Flower</td>\n",
       "      <td>She Hangs Brightly</td>\n",
       "      <td>1990</td>\n",
       "      <td>ALBUM</td>\n",
       "      <td>Waiting for a sign from you Waiting for a sign...</td>\n",
       "      <td>Waitin' for a sign from you\\nWaitin' for a sig...</td>\n",
       "      <td>(Waiting, for, a, sign, from, you, Waiting, fo...</td>\n",
       "      <td>[Waiting, for, a, sign, from, you, Waiting, fo...</td>\n",
       "      <td>[wait, for, a, sign, from, you, wait, for, a, ...</td>\n",
       "      <td>[(VERB, VBG), (ADP, IN), (DET, DT), (NOUN, NN)...</td>\n",
       "      <td>[Flower, Superstar, Flower, Superstar]</td>\n",
       "      <td>[TIME, ORG, LANGUAGE, TIME, ORG]</td>\n",
       "      <td>[(morning), (Superstar), (Flower), (morning), ...</td>\n",
       "    </tr>\n",
       "    <tr>\n",
       "      <th>3</th>\n",
       "      <td>Free</td>\n",
       "      <td>She Hangs Brightly</td>\n",
       "      <td>1990</td>\n",
       "      <td>ALBUM</td>\n",
       "      <td>I fell asleep in the silence Before the street...</td>\n",
       "      <td>I fell asleep in the silence\\nBefore the stree...</td>\n",
       "      <td>(I, fell, asleep, in, the, silence, Before, th...</td>\n",
       "      <td>[I, fell, asleep, in, the, silence, Before, th...</td>\n",
       "      <td>[I, fall, asleep, in, the, silence, before, th...</td>\n",
       "      <td>[(PRON, PRP), (VERB, VBD), (ADJ, JJ), (ADP, IN...</td>\n",
       "      <td>[Lay, Afraid, Free, Plea]</td>\n",
       "      <td>[PERSON, ORG]</td>\n",
       "      <td>[(Afraid), (Plea)]</td>\n",
       "    </tr>\n",
       "    <tr>\n",
       "      <th>4</th>\n",
       "      <td>Ghost Highway</td>\n",
       "      <td>She Hangs Brightly</td>\n",
       "      <td>1990</td>\n",
       "      <td>ALBUM</td>\n",
       "      <td>You're a ghost on the highway And I'll love yo...</td>\n",
       "      <td>You're a ghost on the highway\\nAnd I'll love y...</td>\n",
       "      <td>(You, 're, a, ghost, on, the, highway, And, I,...</td>\n",
       "      <td>[You, 're, a, ghost, on, the, highway, And, I,...</td>\n",
       "      <td>[you, be, a, ghost, on, the, highway, and, I, ...</td>\n",
       "      <td>[(PRON, PRP), (AUX, VBP), (DET, DT), (NOUN, NN...</td>\n",
       "      <td>[Ghost, Ghost]</td>\n",
       "      <td>[PERSON, PERSON]</td>\n",
       "      <td>[(Ghost), (Ghost)]</td>\n",
       "    </tr>\n",
       "  </tbody>\n",
       "</table>\n",
       "</div>"
      ],
      "text/plain": [
       "            TITLE               ALBUM  YEAR   TYPE  \\\n",
       "0     Be My Angel  She Hangs Brightly  1990  ALBUM   \n",
       "1  Before I Sleep  She Hangs Brightly  1990  ALBUM   \n",
       "2     Blue Flower  She Hangs Brightly  1990  ALBUM   \n",
       "3            Free  She Hangs Brightly  1990  ALBUM   \n",
       "4   Ghost Highway  She Hangs Brightly  1990  ALBUM   \n",
       "\n",
       "                                                Text  \\\n",
       "0  They say it's me that makes you do things you ...   \n",
       "1  If it's The truth That's all I know I look for...   \n",
       "2  Waiting for a sign from you Waiting for a sign...   \n",
       "3  I fell asleep in the silence Before the street...   \n",
       "4  You're a ghost on the highway And I'll love yo...   \n",
       "\n",
       "                                            Document  \\\n",
       "0  They say it's me\\nthat makes you do things\\nyo...   \n",
       "1  If it's\\nThe truth\\nThat's all I know\\nI look ...   \n",
       "2  Waitin' for a sign from you\\nWaitin' for a sig...   \n",
       "3  I fell asleep in the silence\\nBefore the stree...   \n",
       "4  You're a ghost on the highway\\nAnd I'll love y...   \n",
       "\n",
       "                                                 Doc  \\\n",
       "0  (They, say, it, 's, me, that, makes, you, do, ...   \n",
       "1  (If, it, 's, The, truth, That, 's, all, I, kno...   \n",
       "2  (Waiting, for, a, sign, from, you, Waiting, fo...   \n",
       "3  (I, fell, asleep, in, the, silence, Before, th...   \n",
       "4  (You, 're, a, ghost, on, the, highway, And, I,...   \n",
       "\n",
       "                                              Tokens  \\\n",
       "0  [They, say, it, 's, me, that, makes, you, do, ...   \n",
       "1  [If, it, 's, The, truth, That, 's, all, I, kno...   \n",
       "2  [Waiting, for, a, sign, from, you, Waiting, fo...   \n",
       "3  [I, fell, asleep, in, the, silence, Before, th...   \n",
       "4  [You, 're, a, ghost, on, the, highway, And, I,...   \n",
       "\n",
       "                                              Lemmas  \\\n",
       "0  [they, say, it, be, I, that, make, you, do, th...   \n",
       "1  [if, it, be, the, truth, that, be, all, I, kno...   \n",
       "2  [wait, for, a, sign, from, you, wait, for, a, ...   \n",
       "3  [I, fall, asleep, in, the, silence, before, th...   \n",
       "4  [you, be, a, ghost, on, the, highway, and, I, ...   \n",
       "\n",
       "                                                 POS  \\\n",
       "0  [(PRON, PRP), (VERB, VBP), (PRON, PRP), (AUX, ...   \n",
       "1  [(SCONJ, IN), (PRON, PRP), (AUX, VBZ), (DET, D...   \n",
       "2  [(VERB, VBG), (ADP, IN), (DET, DT), (NOUN, NN)...   \n",
       "3  [(PRON, PRP), (VERB, VBD), (ADJ, JJ), (ADP, IN...   \n",
       "4  [(PRON, PRP), (AUX, VBP), (DET, DT), (NOUN, NN...   \n",
       "\n",
       "                             Proper_Nouns                    Named_Entities  \\\n",
       "0                                      []                      [TIME, DATE]   \n",
       "1                                      []                                []   \n",
       "2  [Flower, Superstar, Flower, Superstar]  [TIME, ORG, LANGUAGE, TIME, ORG]   \n",
       "3               [Lay, Afraid, Free, Plea]                     [PERSON, ORG]   \n",
       "4                          [Ghost, Ghost]                  [PERSON, PERSON]   \n",
       "\n",
       "                                            NE_Words  \n",
       "0                         [(the, night), (the, day)]  \n",
       "1                                                 []  \n",
       "2  [(morning), (Superstar), (Flower), (morning), ...  \n",
       "3                                 [(Afraid), (Plea)]  \n",
       "4                                 [(Ghost), (Ghost)]  "
      ]
     },
     "execution_count": 1032,
     "metadata": {},
     "output_type": "execute_result"
    }
   ],
   "source": [
    "final_lyric_df.head()"
   ]
  },
  {
   "cell_type": "code",
   "execution_count": 1034,
   "metadata": {
    "executionInfo": {
     "elapsed": 5,
     "status": "ok",
     "timestamp": 1703547361441,
     "user": {
      "displayName": "Cassie Lu",
      "userId": "03362316879493319105"
     },
     "user_tz": -60
    },
    "id": "CxwrffY6VQQR"
   },
   "outputs": [],
   "source": [
    "final_lyric_df.to_csv('MazzyStar_lyrics_with_spaCy_tags.csv')"
   ]
  },
  {
   "cell_type": "code",
   "execution_count": null,
   "metadata": {},
   "outputs": [],
   "source": []
  },
  {
   "cell_type": "code",
   "execution_count": null,
   "metadata": {},
   "outputs": [],
   "source": []
  }
 ],
 "metadata": {
  "colab": {
   "provenance": []
  },
  "kernelspec": {
   "display_name": "Python 3 (ipykernel)",
   "language": "python",
   "name": "python3"
  },
  "language_info": {
   "codemirror_mode": {
    "name": "ipython",
    "version": 3
   },
   "file_extension": ".py",
   "mimetype": "text/x-python",
   "name": "python",
   "nbconvert_exporter": "python",
   "pygments_lexer": "ipython3",
   "version": "3.11.4"
  }
 },
 "nbformat": 4,
 "nbformat_minor": 1
}
